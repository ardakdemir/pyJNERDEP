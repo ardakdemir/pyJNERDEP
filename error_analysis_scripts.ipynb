{
 "cells": [
  {
   "cell_type": "code",
   "execution_count": 1,
   "metadata": {},
   "outputs": [],
   "source": [
    "from collections import defaultdict\n",
    "import os\n",
    "root_folder = \"../ner_test_outs\"\n",
    "lang_abs = {\"fi\": \"finnish\", \"en\": \"english\", \"hu\": \"hungarian\", \"cs\": \"czech\", \"tr\": \"turkish\", \"jp\": \"japanese\"}\n",
    "langs = list(lang_abs.keys())\n",
    "train_folder = \"../datasets\"\n",
    "l2L= {\"tr\":\"Turkish\",\"cs\":\"Czech\",\"fi\":\"Finnish\",\"hu\":\"Hungarian\",\n",
    "         \"en\":\"English\",\"jp\":\"Japanese\"}\n",
    "def get_datasets(langs):\n",
    "    datasets = {}\n",
    "    for lang in langs :\n",
    "        path = os.path.join(train_folder,\"ner_{}-train.txt\".format(l2L[lang].lower()))\n",
    "        with open(path,\"r\") as f:\n",
    "            x = f.read().split(\"\\n\\n\")[:-1]\n",
    "            datasets[lang] = [[w.split()[0] for w in y.split(\"\\n\")] for y in x]\n",
    "    return datasets\n",
    "def get_freqs(datasets):\n",
    "    freqs = {}\n",
    "    for d in datasets:\n",
    "        freqs[d]=defaultdict(int)\n",
    "        for sent in datasets[d]:\n",
    "            for word in sent:\n",
    "                if len(word)>3:\n",
    "                    freqs[d][word.lower()]+=1\n",
    "    return freqs\n",
    "def get_ner_sentences(model_list, lang):\n",
    "    \"\"\"\n",
    "        Finds the common sentences for each model together with predictions and labels\n",
    "    \"\"\"\n",
    "    ner_sents = defaultdict(dict)\n",
    "    for model in model_list:\n",
    "        with open(os.path.join(root_folder,\"NER_{}_{}_joint_ner_out.txt\".format(model,lang)),\"r\") as f:\n",
    "            sents = f.read().split(\"\\n\\n\")\n",
    "            for sent in sents[:-1]:\n",
    "                \n",
    "                tokens = sent.split(\"\\n\")\n",
    "                \n",
    "                key=\"\".join([t.split()[0] for t in tokens])\n",
    "                sentence = \" \".join([t.split()[0] for t in tokens])\n",
    "                preds = [t.split()[-1] for t in tokens]\n",
    "                labels = [t.split()[-2] for t in tokens]\n",
    "                success = all([p==l for p,l in zip(preds,labels)])\n",
    "                ner_sents[model][key] = (sentence,preds,labels,success)\n",
    "                \n",
    "    return ner_sents\n",
    "\n",
    "def find_common_sents(ner_sents):\n",
    "    common_sents = []\n",
    "    models = list(ner_sents.keys())\n",
    "\n",
    "    for key in ner_sents[models[0]]:\n",
    "        if all([key in ner_sents[model] for model in models]):\n",
    "            common_sents.append(key)\n",
    "    return common_sents\n",
    "\n",
    "def find_tokenbased_difference(ner_sents,common_sents):\n",
    "    \"\"\"\n",
    "        Find the sentences for which subtoken succeeded and token failed\n",
    "    \"\"\"\n",
    "    token_diff_sents = []\n",
    "    models = list(ner_sents.keys())\n",
    "    for sent in common_sents:\n",
    "        if all([ner_sents[model][sent][-1]==False for model in [\"random_init\",\"word2vec\"]]) and ner_sents[\"fastext\"][sent][-1]==True and ner_sents[\"bert\"][sent][-1]==True:\n",
    "            token_diff_sents.append(sent)\n",
    "    return token_diff_sents\n",
    "\n",
    "def find_bert_difference(ner_sents, common_sents, reverse=False):\n",
    "    \"\"\"\n",
    "        Find the sentences for which subtoken succeeded and token failed\n",
    "    \"\"\"\n",
    "    bert_diff_sents = defaultdict(list)\n",
    "    models = list(ner_sents.keys())\n",
    "    for sent in common_sents:\n",
    "        for model in [\"random_init\",\"word2vec\",\"fastext\"]:\n",
    "            if ner_sents[model][sent][-1]==reverse and ner_sents[\"bert\"][sent][-1]!=reverse:\n",
    "                bert_diff_sents[model].append(sent)\n",
    "    return bert_diff_sents\n",
    "def print_subword_diff(diff_sents, ner_sents,models = [\"bert\",\"random_init\",\"word2vec\"]):\n",
    "    print(\"word\\t{}\\t{}\\t{}\\n\".format(*models))\n",
    "    for key in diff_sents:\n",
    "        sentence = ner_sents[\"bert\"][key][0]\n",
    "        for i,word in enumerate(sentence.split()) :\n",
    "            print(\"\\t\".join([word]+[ner_sents[model][key][1][i] for model in models])+\"\\n\")\n",
    "        print(\"\\n\")\n",
    "        \n",
    "def print_bert_diff(diff_sents, ner_sents,models = [\"bert\",\"fastext\",\"random_init\",\"word2vec\"]):\n",
    "    print(\"word\\t{}\\t{}\\t{}\\n\".format(*models))\n",
    "    for key in diff_sents:\n",
    "        sentence = ner_sents[\"bert\"][key][0]\n",
    "        for i,word in enumerate(sentence.split()) :\n",
    "            print(\"\\t\".join([word]+[ner_sents[model][key][1][i] for model in models])+\"\\n\")\n",
    "        print(\"\\n\")"
   ]
  },
  {
   "cell_type": "code",
   "execution_count": 2,
   "metadata": {},
   "outputs": [],
   "source": [
    "x = get_ner_sentences([\"fastext\"], \"jp\")"
   ]
  },
  {
   "cell_type": "code",
   "execution_count": 3,
   "metadata": {},
   "outputs": [],
   "source": [
    "datasets = get_datasets(langs)\n",
    "counts = get_freqs(datasets)"
   ]
  },
  {
   "cell_type": "code",
   "execution_count": 4,
   "metadata": {},
   "outputs": [
    {
     "data": {
      "text/plain": [
       "dict_keys(['fi', 'en', 'hu', 'cs', 'tr', 'jp'])"
      ]
     },
     "execution_count": 4,
     "metadata": {},
     "output_type": "execute_result"
    }
   ],
   "source": [
    "datasets.keys()"
   ]
  },
  {
   "cell_type": "code",
   "execution_count": 5,
   "metadata": {},
   "outputs": [
    {
     "data": {
      "text/plain": [
       "['1883',\n",
       " '年',\n",
       " '、',\n",
       " 'ドイツ',\n",
       " 'で',\n",
       " '初めて',\n",
       " '疾病',\n",
       " '保険',\n",
       " 'が',\n",
       " '制定',\n",
       " 'さ',\n",
       " 'れ',\n",
       " 'た',\n",
       " '。',\n",
       " '1884',\n",
       " '年',\n",
       " 'に',\n",
       " 'は',\n",
       " '労災',\n",
       " '保険',\n",
       " '、',\n",
       " '1889',\n",
       " '年',\n",
       " 'に',\n",
       " 'は',\n",
       " '年金',\n",
       " '保険',\n",
       " 'が',\n",
       " '制定',\n",
       " 'さ',\n",
       " 'れ',\n",
       " 'た',\n",
       " '。',\n",
       " 'この',\n",
       " 'よう',\n",
       " 'に',\n",
       " '、',\n",
       " '社会',\n",
       " '保険',\n",
       " '制度',\n",
       " 'を',\n",
       " '創設',\n",
       " 'し',\n",
       " 'つつ',\n",
       " '社会',\n",
       " '主義',\n",
       " '運動',\n",
       " 'を',\n",
       " '弾圧',\n",
       " 'する',\n",
       " '鉄血',\n",
       " '宰相',\n",
       " 'オットー・フォン・ビスマルク',\n",
       " 'の',\n",
       " '政策',\n",
       " 'は',\n",
       " '「',\n",
       " '飴',\n",
       " 'と',\n",
       " 'ムチ',\n",
       " '」',\n",
       " 'の',\n",
       " '政策',\n",
       " 'と',\n",
       " '呼ば',\n",
       " 'れる',\n",
       " '。',\n",
       " '疾病',\n",
       " '保険',\n",
       " 'は',\n",
       " '、',\n",
       " '既存',\n",
       " 'の',\n",
       " '共済',\n",
       " '組合',\n",
       " 'を',\n",
       " '利用',\n",
       " 'し',\n",
       " 'た',\n",
       " 'もの',\n",
       " 'で',\n",
       " '、',\n",
       " '経費',\n",
       " 'の',\n",
       " '公費',\n",
       " '負担',\n",
       " 'は',\n",
       " 'なかっ',\n",
       " 'た',\n",
       " 'が',\n",
       " '、',\n",
       " '労災',\n",
       " '保険',\n",
       " 'の',\n",
       " '費用',\n",
       " 'は',\n",
       " '全額',\n",
       " '事業主',\n",
       " '負担',\n",
       " 'だっ',\n",
       " 'た',\n",
       " '。',\n",
       " '年金',\n",
       " '保険',\n",
       " 'は',\n",
       " '30',\n",
       " '年',\n",
       " '以上',\n",
       " '保険',\n",
       " '料',\n",
       " 'を',\n",
       " '払い込ん',\n",
       " 'だ',\n",
       " '70',\n",
       " '歳',\n",
       " '以上',\n",
       " 'の',\n",
       " '高齢',\n",
       " '者',\n",
       " 'に',\n",
       " '給付',\n",
       " 'を',\n",
       " '行う',\n",
       " 'もの',\n",
       " 'で',\n",
       " 'あり',\n",
       " '、',\n",
       " '公費',\n",
       " '負担',\n",
       " 'が',\n",
       " '3',\n",
       " '分の',\n",
       " '1',\n",
       " 'だっ',\n",
       " 'た',\n",
       " '。',\n",
       " 'ドイツ',\n",
       " 'で',\n",
       " '始まっ',\n",
       " 'た',\n",
       " '社会',\n",
       " '保険',\n",
       " 'の',\n",
       " '仕組み',\n",
       " 'は',\n",
       " '、',\n",
       " 'その後',\n",
       " '世界',\n",
       " '各国',\n",
       " 'で',\n",
       " '導入',\n",
       " 'さ',\n",
       " 'れる',\n",
       " 'よう',\n",
       " 'に',\n",
       " 'なる',\n",
       " '。']"
      ]
     },
     "execution_count": 5,
     "metadata": {},
     "output_type": "execute_result"
    }
   ],
   "source": [
    "datasets[\"jp\"][0]"
   ]
  },
  {
   "cell_type": "code",
   "execution_count": 25,
   "metadata": {},
   "outputs": [
    {
     "data": {
      "text/plain": [
       "['rejects',\n",
       " 'german',\n",
       " 'call',\n",
       " 'boycott',\n",
       " 'british',\n",
       " 'lamb',\n",
       " 'peter',\n",
       " 'blackburn',\n",
       " 'brussels',\n",
       " '1996-08-22']"
      ]
     },
     "execution_count": 25,
     "metadata": {},
     "output_type": "execute_result"
    }
   ],
   "source": [
    "list(counts[\"en\"].keys())[:10]"
   ]
  },
  {
   "cell_type": "code",
   "execution_count": 14,
   "metadata": {
    "scrolled": true
   },
   "outputs": [
    {
     "name": "stdout",
     "output_type": "stream",
     "text": [
      "Czech\n",
      "BERT NER SENTS : 889\n",
      "word2vec . Number of wrong entities : 36 Number of all entities : 2473 \n",
      "random_init . Number of wrong entities : 51 Number of all entities : 2473 \n",
      "fastext . Number of wrong entities : 66 Number of all entities : 2473 \n",
      "word2vec . Number of wrong entities : 36 Number of all entities : 2473 \n",
      "random_init . Number of wrong entities : 51 Number of all entities : 2473 \n",
      "fastext . Number of wrong entities : 66 Number of all entities : 2473 \n",
      "14 failed examples of word2vec for 889 sentences\n",
      "16 failed examples of random_init for 889 sentences\n",
      "16 failed examples of fastext for 889 sentences\n",
      "Entity Lengths. Model : word2vec Value : 4.923076923076923  Overall : 5.382847533632287\n",
      "Entity Lengths. Model : random_init Value : 5.056603773584905  Overall : 5.382847533632287\n",
      "Entity Lengths. Model : fastext Value : 5.111111111111111  Overall : 5.382847533632287\n",
      "Entity Lengths. Model : Overall Value : 5.382847533632287  Overall : 5.382847533632287\n",
      "Tag types. Model : word2vec Value : 1.0156862745098039  Overall : 1.0452443857331573\n",
      "Tag types. Model : random_init Value : 1.0284552845528456  Overall : 1.0452443857331573\n",
      "Tag types. Model : fastext Value : 1.0272727272727273  Overall : 1.0452443857331573\n",
      "Tag types. Model : Overall Value : 1.0452443857331573  Overall : 1.0452443857331573\n",
      "Multiple tag frequency. Model : word2vec Value : 0.01568627450980392  Overall : 0.035446939674152356\n",
      "Multiple tag frequency. Model : random_init Value : 0.024390243902439025  Overall : 0.035446939674152356\n",
      "Multiple tag frequency. Model : fastext Value : 0.024242424242424242  Overall : 0.035446939674152356\n",
      "Multiple tag frequency. Model : Overall Value : 0.035446939674152356  Overall : 0.035446939674152356\n",
      "Sent Lengths. Model : word2vec Value : 25.357142857142858  Overall : 22.50843644544432\n",
      "Sent Lengths. Model : random_init Value : 22.5  Overall : 22.50843644544432\n",
      "Sent Lengths. Model : fastext Value : 29.375  Overall : 22.50843644544432\n",
      "Sent Lengths. Model : Overall Value : 22.50843644544432  Overall : 22.50843644544432\n",
      "Rare. Model : word2vec Value : 0.7222222222222222  Overall : 0.7399919126566923\n",
      "Rare. Model : random_init Value : 0.7058823529411765  Overall : 0.7399919126566923\n",
      "Rare. Model : fastext Value : 0.803030303030303  Overall : 0.7399919126566923\n",
      "Unknown. Model : word2vec  Value : 0.5555555555555556  Overall : 0.5576223210675293\n",
      "Unknown. Model : random_init  Value : 0.5490196078431373  Overall : 0.5576223210675293\n",
      "Unknown. Model : fastext  Value : 0.6363636363636364  Overall : 0.5576223210675293\n",
      "Hungarian\n",
      "BERT NER SENTS : 933\n",
      "random_init . Number of wrong entities : 61 Number of all entities : 1147 \n",
      "word2vec . Number of wrong entities : 68 Number of all entities : 1147 \n",
      "fastext . Number of wrong entities : 66 Number of all entities : 1147 \n",
      "random_init . Number of wrong entities : 61 Number of all entities : 1147 \n",
      "word2vec . Number of wrong entities : 68 Number of all entities : 1147 \n",
      "fastext . Number of wrong entities : 66 Number of all entities : 1147 \n",
      "24 failed examples of random_init for 933 sentences\n",
      "25 failed examples of word2vec for 933 sentences\n",
      "23 failed examples of fastext for 933 sentences\n",
      "Entity Lengths. Model : random_init Value : 6.346153846153846  Overall : 6.7926499032882015\n",
      "Entity Lengths. Model : word2vec Value : 6.197530864197531  Overall : 6.7926499032882015\n",
      "Entity Lengths. Model : fastext Value : 6.1375  Overall : 6.7926499032882015\n",
      "Entity Lengths. Model : Overall Value : 6.7926499032882015  Overall : 6.7926499032882015\n",
      "Tag types. Model : random_init Value : 1.0213333333333334  Overall : 1.0099357994497096\n",
      "Tag types. Model : word2vec Value : 1.020100502512563  Overall : 1.0099357994497096\n",
      "Tag types. Model : fastext Value : 1.0294117647058822  Overall : 1.0099357994497096\n",
      "Tag types. Model : Overall Value : 1.0099357994497096  Overall : 1.0099357994497096\n",
      "Multiple tag frequency. Model : random_init Value : 0.018666666666666668  Overall : 0.00871293182512993\n",
      "Multiple tag frequency. Model : word2vec Value : 0.017587939698492462  Overall : 0.00871293182512993\n",
      "Multiple tag frequency. Model : fastext Value : 0.029411764705882353  Overall : 0.00871293182512993\n",
      "Multiple tag frequency. Model : Overall Value : 0.00871293182512993  Overall : 0.00871293182512993\n",
      "Sent Lengths. Model : random_init Value : 25.791666666666668  Overall : 24.118971061093248\n",
      "Sent Lengths. Model : word2vec Value : 26.56  Overall : 24.118971061093248\n",
      "Sent Lengths. Model : fastext Value : 25.695652173913043  Overall : 24.118971061093248\n",
      "Sent Lengths. Model : Overall Value : 24.118971061093248  Overall : 24.118971061093248\n",
      "Rare. Model : random_init Value : 0.39344262295081966  Overall : 0.5928509154315605\n",
      "Rare. Model : word2vec Value : 0.5588235294117647  Overall : 0.5928509154315605\n",
      "Rare. Model : fastext Value : 0.4090909090909091  Overall : 0.5928509154315605\n",
      "Unknown. Model : random_init  Value : 0.26229508196721313  Overall : 0.4071490845684394\n",
      "Unknown. Model : word2vec  Value : 0.35294117647058826  Overall : 0.4071490845684394\n",
      "Unknown. Model : fastext  Value : 0.2727272727272727  Overall : 0.4071490845684394\n",
      "Finnish\n",
      "BERT NER SENTS : 3506\n",
      "random_init . Number of wrong entities : 177 Number of all entities : 3170 \n",
      "word2vec . Number of wrong entities : 205 Number of all entities : 3170 \n",
      "fastext . Number of wrong entities : 241 Number of all entities : 3170 \n",
      "random_init . Number of wrong entities : 177 Number of all entities : 3170 \n",
      "word2vec . Number of wrong entities : 205 Number of all entities : 3170 \n",
      "fastext . Number of wrong entities : 241 Number of all entities : 3170 \n",
      "64 failed examples of random_init for 3506 sentences\n",
      "75 failed examples of word2vec for 3506 sentences\n",
      "90 failed examples of fastext for 3506 sentences\n",
      "Entity Lengths. Model : random_init Value : 7.674897119341564  Overall : 7.5477996965098635\n",
      "Entity Lengths. Model : word2vec Value : 7.347280334728033  Overall : 7.5477996965098635\n",
      "Entity Lengths. Model : fastext Value : 7.742268041237113  Overall : 7.5477996965098635\n",
      "Entity Lengths. Model : Overall Value : 7.5477996965098635  Overall : 7.5477996965098635\n",
      "Tag types. Model : random_init Value : 1.0254110612855007  Overall : 1.0338644247163267\n",
      "Tag types. Model : word2vec Value : 1.0225  Overall : 1.0338644247163267\n",
      "Tag types. Model : fastext Value : 1.0219435736677116  Overall : 1.0338644247163267\n",
      "Tag types. Model : Overall Value : 1.0338644247163267  Overall : 1.0338644247163267\n",
      "Multiple tag frequency. Model : random_init Value : 0.025411061285500747  Overall : 0.029161032394614615\n",
      "Multiple tag frequency. Model : word2vec Value : 0.02125  Overall : 0.029161032394614615\n",
      "Multiple tag frequency. Model : fastext Value : 0.0219435736677116  Overall : 0.029161032394614615\n",
      "Multiple tag frequency. Model : Overall Value : 0.029161032394614615  Overall : 0.029161032394614615\n",
      "Sent Lengths. Model : random_init Value : 15.828125  Overall : 13.410154021677124\n",
      "Sent Lengths. Model : word2vec Value : 15.533333333333333  Overall : 13.410154021677124\n",
      "Sent Lengths. Model : fastext Value : 15.6  Overall : 13.410154021677124\n",
      "Sent Lengths. Model : Overall Value : 13.410154021677124  Overall : 13.410154021677124\n",
      "Rare. Model : random_init Value : 0.4011299435028249  Overall : 0.717981072555205\n",
      "Rare. Model : word2vec Value : 0.44878048780487806  Overall : 0.717981072555205\n",
      "Rare. Model : fastext Value : 0.44398340248962653  Overall : 0.717981072555205\n",
      "Unknown. Model : random_init  Value : 0.3050847457627119  Overall : 0.5652996845425867\n",
      "Unknown. Model : word2vec  Value : 0.33658536585365856  Overall : 0.5652996845425867\n",
      "Unknown. Model : fastext  Value : 0.2863070539419087  Overall : 0.5652996845425867\n",
      "Turkish\n",
      "BERT NER SENTS : 2729\n",
      "word2vec . Number of wrong entities : 97 Number of all entities : 1683 \n",
      "random_init . Number of wrong entities : 119 Number of all entities : 1683 \n",
      "fastext . Number of wrong entities : 106 Number of all entities : 1683 \n",
      "word2vec . Number of wrong entities : 97 Number of all entities : 1683 \n",
      "random_init . Number of wrong entities : 119 Number of all entities : 1683 \n",
      "fastext . Number of wrong entities : 106 Number of all entities : 1683 \n",
      "47 failed examples of word2vec for 2729 sentences\n",
      "54 failed examples of random_init for 2729 sentences\n",
      "53 failed examples of fastext for 2729 sentences\n",
      "Entity Lengths. Model : word2vec Value : 6.578947368421052  Overall : 6.915332989158492\n",
      "Entity Lengths. Model : random_init Value : 6.381294964028777  Overall : 6.915332989158492\n",
      "Entity Lengths. Model : fastext Value : 6.617886178861789  Overall : 6.915332989158492\n",
      "Entity Lengths. Model : Overall Value : 6.915332989158492  Overall : 6.915332989158492\n",
      "Tag types. Model : word2vec Value : 1.0066225165562914  Overall : 1.0122814948764316\n",
      "Tag types. Model : random_init Value : 1.0091185410334347  Overall : 1.0122814948764316\n",
      "Tag types. Model : fastext Value : 1.0029761904761905  Overall : 1.0122814948764316\n",
      "Tag types. Model : Overall Value : 1.0122814948764316  Overall : 1.0122814948764316\n",
      "Multiple tag frequency. Model : word2vec Value : 0.006622516556291391  Overall : 0.011301989150090416\n",
      "Multiple tag frequency. Model : random_init Value : 0.00911854103343465  Overall : 0.011301989150090416\n",
      "Multiple tag frequency. Model : fastext Value : 0.002976190476190476  Overall : 0.011301989150090416\n",
      "Multiple tag frequency. Model : Overall Value : 0.011301989150090416  Overall : 0.011301989150090416\n",
      "Sent Lengths. Model : word2vec Value : 18.4468085106383  Overall : 13.179552949798461\n",
      "Sent Lengths. Model : random_init Value : 16.944444444444443  Overall : 13.179552949798461\n",
      "Sent Lengths. Model : fastext Value : 17.81132075471698  Overall : 13.179552949798461\n",
      "Sent Lengths. Model : Overall Value : 13.179552949798461  Overall : 13.179552949798461\n",
      "Rare. Model : word2vec Value : 0.4845360824742268  Overall : 0.5341651812240048\n",
      "Rare. Model : random_init Value : 0.5042016806722689  Overall : 0.5341651812240048\n",
      "Rare. Model : fastext Value : 0.4528301886792453  Overall : 0.5341651812240048\n",
      "Unknown. Model : word2vec  Value : 0.3711340206185567  Overall : 0.37670825906120026\n",
      "Unknown. Model : random_init  Value : 0.37815126050420167  Overall : 0.37670825906120026\n",
      "Unknown. Model : fastext  Value : 0.3490566037735849  Overall : 0.37670825906120026\n",
      "English\n"
     ]
    },
    {
     "name": "stdout",
     "output_type": "stream",
     "text": [
      "BERT NER SENTS : 3152\n",
      "fastext . Number of wrong entities : 259 Number of all entities : 2974 \n",
      "word2vec . Number of wrong entities : 168 Number of all entities : 2974 \n",
      "random_init . Number of wrong entities : 141 Number of all entities : 2974 \n",
      "fastext . Number of wrong entities : 259 Number of all entities : 2974 \n",
      "word2vec . Number of wrong entities : 168 Number of all entities : 2974 \n",
      "random_init . Number of wrong entities : 141 Number of all entities : 2974 \n",
      "117 failed examples of fastext for 3152 sentences\n",
      "84 failed examples of word2vec for 3152 sentences\n",
      "62 failed examples of random_init for 3152 sentences\n",
      "Entity Lengths. Model : fastext Value : 6.013201320132013  Overall : 6.194150277357539\n",
      "Entity Lengths. Model : word2vec Value : 6.00990099009901  Overall : 6.194150277357539\n",
      "Entity Lengths. Model : random_init Value : 6.031055900621118  Overall : 6.194150277357539\n",
      "Entity Lengths. Model : Overall Value : 6.194150277357539  Overall : 6.194150277357539\n",
      "Tag types. Model : fastext Value : 1.038751345532831  Overall : 1.0746568109820487\n",
      "Tag types. Model : word2vec Value : 1.0275761973875182  Overall : 1.0746568109820487\n",
      "Tag types. Model : random_init Value : 1.0251937984496124  Overall : 1.0746568109820487\n",
      "Tag types. Model : Overall Value : 1.0746568109820487  Overall : 1.0746568109820487\n",
      "Multiple tag frequency. Model : fastext Value : 0.03767491926803014  Overall : 0.06293558606124604\n",
      "Multiple tag frequency. Model : word2vec Value : 0.026124818577648767  Overall : 0.06293558606124604\n",
      "Multiple tag frequency. Model : random_init Value : 0.023255813953488372  Overall : 0.06293558606124604\n",
      "Multiple tag frequency. Model : Overall Value : 0.06293558606124604  Overall : 0.06293558606124604\n",
      "Sent Lengths. Model : fastext Value : 14.837606837606838  Overall : 14.38991116751269\n",
      "Sent Lengths. Model : word2vec Value : 13.821428571428571  Overall : 14.38991116751269\n",
      "Sent Lengths. Model : random_init Value : 14.774193548387096  Overall : 14.38991116751269\n",
      "Sent Lengths. Model : Overall Value : 14.38991116751269  Overall : 14.38991116751269\n",
      "Rare. Model : fastext Value : 0.5135135135135135  Overall : 0.644586415601883\n",
      "Rare. Model : word2vec Value : 0.44047619047619047  Overall : 0.644586415601883\n",
      "Rare. Model : random_init Value : 0.48226950354609927  Overall : 0.644586415601883\n",
      "Unknown. Model : fastext  Value : 0.43243243243243246  Overall : 0.5171486213853396\n",
      "Unknown. Model : word2vec  Value : 0.39880952380952384  Overall : 0.5171486213853396\n",
      "Unknown. Model : random_init  Value : 0.3971631205673759  Overall : 0.5171486213853396\n",
      "Japanese\n",
      "BERT NER SENTS : 151\n",
      "fastext . Number of wrong entities : 40 Number of all entities : 1307 \n",
      "word2vec . Number of wrong entities : 9 Number of all entities : 1307 \n",
      "random_init . Number of wrong entities : 6 Number of all entities : 1307 \n",
      "fastext . Number of wrong entities : 40 Number of all entities : 1307 \n",
      "word2vec . Number of wrong entities : 9 Number of all entities : 1307 \n",
      "random_init . Number of wrong entities : 6 Number of all entities : 1307 \n",
      "6 failed examples of fastext for 151 sentences\n",
      "3 failed examples of word2vec for 151 sentences\n",
      "1 failed examples of random_init for 151 sentences\n",
      "Entity Lengths. Model : fastext Value : 3.0425531914893615  Overall : 2.3727656808579787\n",
      "Entity Lengths. Model : word2vec Value : 2.6  Overall : 2.3727656808579787\n",
      "Entity Lengths. Model : random_init Value : 2.2857142857142856  Overall : 2.3727656808579787\n",
      "Entity Lengths. Model : Overall Value : 2.3727656808579787  Overall : 2.3727656808579787\n",
      "Tag types. Model : fastext Value : 1.0119402985074626  Overall : 1.1096801888817343\n",
      "Tag types. Model : word2vec Value : 1.0056497175141244  Overall : 1.1096801888817343\n",
      "Tag types. Model : random_init Value : 1.0133333333333334  Overall : 1.1096801888817343\n",
      "Tag types. Model : Overall Value : 1.1096801888817343  Overall : 1.1096801888817343\n",
      "Multiple tag frequency. Model : fastext Value : 0.011940298507462687  Overall : 0.07598197037990985\n",
      "Multiple tag frequency. Model : word2vec Value : 0.005649717514124294  Overall : 0.07598197037990985\n",
      "Multiple tag frequency. Model : random_init Value : 0.013333333333333334  Overall : 0.07598197037990985\n",
      "Multiple tag frequency. Model : Overall Value : 0.07598197037990985  Overall : 0.07598197037990985\n",
      "Sent Lengths. Model : fastext Value : 126.5  Overall : 141.89403973509934\n",
      "Sent Lengths. Model : word2vec Value : 126.66666666666667  Overall : 141.89403973509934\n",
      "Sent Lengths. Model : random_init Value : 126.0  Overall : 141.89403973509934\n",
      "Sent Lengths. Model : Overall Value : 141.89403973509934  Overall : 141.89403973509934\n",
      "Rare. Model : fastext Value : 0.85  Overall : 0.9265493496557001\n",
      "Rare. Model : word2vec Value : 0.6666666666666666  Overall : 0.9265493496557001\n",
      "Rare. Model : random_init Value : 0.6666666666666666  Overall : 0.9265493496557001\n",
      "Unknown. Model : fastext  Value : 0.85  Overall : 0.8469778117827085\n",
      "Unknown. Model : word2vec  Value : 0.6666666666666666  Overall : 0.8469778117827085\n",
      "Unknown. Model : random_init  Value : 0.6666666666666666  Overall : 0.8469778117827085\n",
      "Czech\n",
      "BERT NER SENTS : 889\n",
      "word2vec . Number of wrong entities : 1119 Number of all entities : 2473 \n",
      "fastext . Number of wrong entities : 998 Number of all entities : 2473 \n",
      "random_init . Number of wrong entities : 1170 Number of all entities : 2473 \n",
      "word2vec . Number of wrong entities : 1119 Number of all entities : 2473 \n",
      "fastext . Number of wrong entities : 998 Number of all entities : 2473 \n",
      "random_init . Number of wrong entities : 1170 Number of all entities : 2473 \n",
      "225 failed examples of word2vec for 889 sentences\n",
      "189 failed examples of fastext for 889 sentences\n",
      "253 failed examples of random_init for 889 sentences\n",
      "Entity Lengths. Model : word2vec Value : 5.3671328671328675  Overall : 5.382847533632287\n",
      "Entity Lengths. Model : fastext Value : 5.367218282111899  Overall : 5.382847533632287\n",
      "Entity Lengths. Model : random_init Value : 5.32650363516193  Overall : 5.382847533632287\n",
      "Entity Lengths. Model : Overall Value : 5.382847533632287  Overall : 5.382847533632287\n",
      "Tag types. Model : word2vec Value : 1.0493046776232617  Overall : 1.0452443857331573\n",
      "Tag types. Model : fastext Value : 1.0518650088809947  Overall : 1.0452443857331573\n",
      "Tag types. Model : random_init Value : 1.0486454995630643  Overall : 1.0452443857331573\n",
      "Tag types. Model : Overall Value : 1.0452443857331573  Overall : 1.0452443857331573\n",
      "Multiple tag frequency. Model : word2vec Value : 0.039506953223767384  Overall : 0.035446939674152356\n",
      "Multiple tag frequency. Model : fastext Value : 0.04085257548845471  Overall : 0.035446939674152356\n",
      "Multiple tag frequency. Model : random_init Value : 0.038741625400524324  Overall : 0.035446939674152356\n",
      "Multiple tag frequency. Model : Overall Value : 0.035446939674152356  Overall : 0.035446939674152356\n",
      "Sent Lengths. Model : word2vec Value : 26.128888888888888  Overall : 22.50843644544432\n",
      "Sent Lengths. Model : fastext Value : 27.24867724867725  Overall : 22.50843644544432\n",
      "Sent Lengths. Model : random_init Value : 25.58498023715415  Overall : 22.50843644544432\n",
      "Sent Lengths. Model : Overall Value : 22.50843644544432  Overall : 22.50843644544432\n",
      "Rare. Model : word2vec Value : 0.7140303842716711  Overall : 0.7399919126566923\n",
      "Rare. Model : fastext Value : 0.7054108216432866  Overall : 0.7399919126566923\n",
      "Rare. Model : random_init Value : 0.7188034188034188  Overall : 0.7399919126566923\n",
      "Unknown. Model : word2vec  Value : 0.5370866845397676  Overall : 0.5576223210675293\n",
      "Unknown. Model : fastext  Value : 0.5480961923847696  Overall : 0.5576223210675293\n",
      "Unknown. Model : random_init  Value : 0.5470085470085471  Overall : 0.5576223210675293\n",
      "Hungarian\n",
      "BERT NER SENTS : 933\n",
      "random_init . Number of wrong entities : 329 Number of all entities : 1147 \n",
      "word2vec . Number of wrong entities : 451 Number of all entities : 1147 \n",
      "fastext . Number of wrong entities : 363 Number of all entities : 1147 \n",
      "random_init . Number of wrong entities : 329 Number of all entities : 1147 \n",
      "word2vec . Number of wrong entities : 451 Number of all entities : 1147 \n",
      "fastext . Number of wrong entities : 363 Number of all entities : 1147 \n",
      "96 failed examples of random_init for 933 sentences\n",
      "128 failed examples of word2vec for 933 sentences\n",
      "112 failed examples of fastext for 933 sentences\n",
      "Entity Lengths. Model : random_init Value : 7.127358490566038  Overall : 6.7926499032882015\n",
      "Entity Lengths. Model : word2vec Value : 6.883435582822086  Overall : 6.7926499032882015\n",
      "Entity Lengths. Model : fastext Value : 7.066810344827586  Overall : 6.7926499032882015\n",
      "Entity Lengths. Model : Overall Value : 6.7926499032882015  Overall : 6.7926499032882015\n",
      "Tag types. Model : random_init Value : 1.0134656272147413  Overall : 1.0099357994497096\n",
      "Tag types. Model : word2vec Value : 1.0163288288288288  Overall : 1.0099357994497096\n",
      "Tag types. Model : fastext Value : 1.01157830591103  Overall : 1.0099357994497096\n",
      "Tag types. Model : Overall Value : 1.0099357994497096  Overall : 1.0099357994497096\n",
      "Multiple tag frequency. Model : random_init Value : 0.012048192771084338  Overall : 0.00871293182512993\n",
      "Multiple tag frequency. Model : word2vec Value : 0.014076576576576577  Overall : 0.00871293182512993\n",
      "Multiple tag frequency. Model : fastext Value : 0.010968921389396709  Overall : 0.00871293182512993\n",
      "Multiple tag frequency. Model : Overall Value : 0.00871293182512993  Overall : 0.00871293182512993\n",
      "Sent Lengths. Model : random_init Value : 27.166666666666668  Overall : 24.118971061093248\n",
      "Sent Lengths. Model : word2vec Value : 27.5234375  Overall : 24.118971061093248\n",
      "Sent Lengths. Model : fastext Value : 27.5  Overall : 24.118971061093248\n",
      "Sent Lengths. Model : Overall Value : 24.118971061093248  Overall : 24.118971061093248\n",
      "Rare. Model : random_init Value : 0.668693009118541  Overall : 0.5928509154315605\n",
      "Rare. Model : word2vec Value : 0.5986696230598669  Overall : 0.5928509154315605\n",
      "Rare. Model : fastext Value : 0.5922865013774105  Overall : 0.5928509154315605\n",
      "Unknown. Model : random_init  Value : 0.5045592705167173  Overall : 0.4071490845684394\n",
      "Unknown. Model : word2vec  Value : 0.44124168514412415  Overall : 0.4071490845684394\n",
      "Unknown. Model : fastext  Value : 0.4573002754820937  Overall : 0.4071490845684394\n",
      "Finnish\n"
     ]
    },
    {
     "name": "stdout",
     "output_type": "stream",
     "text": [
      "BERT NER SENTS : 3506\n",
      "word2vec . Number of wrong entities : 2030 Number of all entities : 3170 \n",
      "random_init . Number of wrong entities : 2098 Number of all entities : 3170 \n",
      "fastext . Number of wrong entities : 1901 Number of all entities : 3170 \n",
      "word2vec . Number of wrong entities : 2030 Number of all entities : 3170 \n",
      "random_init . Number of wrong entities : 2098 Number of all entities : 3170 \n",
      "fastext . Number of wrong entities : 1901 Number of all entities : 3170 \n",
      "1004 failed examples of word2vec for 3506 sentences\n",
      "1188 failed examples of random_init for 3506 sentences\n",
      "893 failed examples of fastext for 3506 sentences\n",
      "Entity Lengths. Model : word2vec Value : 7.93067288086222  Overall : 7.5477996965098635\n",
      "Entity Lengths. Model : random_init Value : 7.8724905046120455  Overall : 7.5477996965098635\n",
      "Entity Lengths. Model : fastext Value : 8.065196237431074  Overall : 7.5477996965098635\n",
      "Entity Lengths. Model : Overall Value : 7.5477996965098635  Overall : 7.5477996965098635\n",
      "Tag types. Model : word2vec Value : 1.0335203366058907  Overall : 1.0338644247163267\n",
      "Tag types. Model : random_init Value : 1.0326692241059274  Overall : 1.0338644247163267\n",
      "Tag types. Model : fastext Value : 1.0339715873996294  Overall : 1.0338644247163267\n",
      "Tag types. Model : Overall Value : 1.0338644247163267  Overall : 1.0338644247163267\n",
      "Multiple tag frequency. Model : word2vec Value : 0.030434782608695653  Overall : 0.029161032394614615\n",
      "Multiple tag frequency. Model : random_init Value : 0.029575547580744956  Overall : 0.029161032394614615\n",
      "Multiple tag frequency. Model : fastext Value : 0.030883261272390366  Overall : 0.029161032394614615\n",
      "Multiple tag frequency. Model : Overall Value : 0.029161032394614615  Overall : 0.029161032394614615\n",
      "Sent Lengths. Model : word2vec Value : 14.872509960159363  Overall : 13.410154021677124\n",
      "Sent Lengths. Model : random_init Value : 14.797138047138047  Overall : 13.410154021677124\n",
      "Sent Lengths. Model : fastext Value : 14.753639417693169  Overall : 13.410154021677124\n",
      "Sent Lengths. Model : Overall Value : 13.410154021677124  Overall : 13.410154021677124\n",
      "Rare. Model : word2vec Value : 0.7054187192118226  Overall : 0.717981072555205\n",
      "Rare. Model : random_init Value : 0.6963775023832222  Overall : 0.717981072555205\n",
      "Rare. Model : fastext Value : 0.6922672277748554  Overall : 0.717981072555205\n",
      "Unknown. Model : word2vec  Value : 0.5699507389162561  Overall : 0.5652996845425867\n",
      "Unknown. Model : random_init  Value : 0.5695900857959962  Overall : 0.5652996845425867\n",
      "Unknown. Model : fastext  Value : 0.5660178853235139  Overall : 0.5652996845425867\n",
      "Turkish\n",
      "BERT NER SENTS : 2729\n",
      "random_init . Number of wrong entities : 974 Number of all entities : 1683 \n",
      "word2vec . Number of wrong entities : 912 Number of all entities : 1683 \n",
      "fastext . Number of wrong entities : 808 Number of all entities : 1683 \n",
      "random_init . Number of wrong entities : 974 Number of all entities : 1683 \n",
      "word2vec . Number of wrong entities : 912 Number of all entities : 1683 \n",
      "fastext . Number of wrong entities : 808 Number of all entities : 1683 \n",
      "422 failed examples of random_init for 2729 sentences\n",
      "409 failed examples of word2vec for 2729 sentences\n",
      "355 failed examples of fastext for 2729 sentences\n",
      "Entity Lengths. Model : random_init Value : 7.143908969210174  Overall : 6.915332989158492\n",
      "Entity Lengths. Model : word2vec Value : 7.080459770114943  Overall : 6.915332989158492\n",
      "Entity Lengths. Model : fastext Value : 7.113328012769354  Overall : 6.915332989158492\n",
      "Entity Lengths. Model : Overall Value : 6.915332989158492  Overall : 6.915332989158492\n",
      "Tag types. Model : random_init Value : 1.0210166177908113  Overall : 1.0122814948764316\n",
      "Tag types. Model : word2vec Value : 1.0215955284552845  Overall : 1.0122814948764316\n",
      "Tag types. Model : fastext Value : 1.022140221402214  Overall : 1.0122814948764316\n",
      "Tag types. Model : Overall Value : 1.0122814948764316  Overall : 1.0122814948764316\n",
      "Multiple tag frequency. Model : random_init Value : 0.020039100684261974  Overall : 0.011301989150090416\n",
      "Multiple tag frequency. Model : word2vec Value : 0.02032520325203252  Overall : 0.011301989150090416\n",
      "Multiple tag frequency. Model : fastext Value : 0.02128867442520579  Overall : 0.011301989150090416\n",
      "Multiple tag frequency. Model : Overall Value : 0.011301989150090416  Overall : 0.011301989150090416\n",
      "Sent Lengths. Model : random_init Value : 18.61137440758294  Overall : 13.179552949798461\n",
      "Sent Lengths. Model : word2vec Value : 18.198044009779952  Overall : 13.179552949798461\n",
      "Sent Lengths. Model : fastext Value : 18.616901408450705  Overall : 13.179552949798461\n",
      "Sent Lengths. Model : Overall Value : 13.179552949798461  Overall : 13.179552949798461\n",
      "Rare. Model : random_init Value : 0.5687885010266941  Overall : 0.5341651812240048\n",
      "Rare. Model : word2vec Value : 0.5767543859649122  Overall : 0.5341651812240048\n",
      "Rare. Model : fastext Value : 0.5606435643564357  Overall : 0.5341651812240048\n",
      "Unknown. Model : random_init  Value : 0.43634496919917864  Overall : 0.37670825906120026\n",
      "Unknown. Model : word2vec  Value : 0.4583333333333333  Overall : 0.37670825906120026\n",
      "Unknown. Model : fastext  Value : 0.4443069306930693  Overall : 0.37670825906120026\n",
      "English\n",
      "BERT NER SENTS : 3152\n",
      "random_init . Number of wrong entities : 1266 Number of all entities : 2974 \n",
      "word2vec . Number of wrong entities : 1226 Number of all entities : 2974 \n",
      "fastext . Number of wrong entities : 939 Number of all entities : 2974 \n",
      "random_init . Number of wrong entities : 1266 Number of all entities : 2974 \n",
      "word2vec . Number of wrong entities : 1226 Number of all entities : 2974 \n",
      "fastext . Number of wrong entities : 939 Number of all entities : 2974 \n",
      "631 failed examples of random_init for 3152 sentences\n",
      "610 failed examples of word2vec for 3152 sentences\n",
      "346 failed examples of fastext for 3152 sentences\n",
      "Entity Lengths. Model : random_init Value : 6.022471910112359  Overall : 6.194150277357539\n",
      "Entity Lengths. Model : word2vec Value : 6.181401740723775  Overall : 6.194150277357539\n",
      "Entity Lengths. Model : fastext Value : 6.101593625498008  Overall : 6.194150277357539\n",
      "Entity Lengths. Model : Overall Value : 6.194150277357539  Overall : 6.194150277357539\n",
      "Tag types. Model : random_init Value : 1.0767543859649122  Overall : 1.0746568109820487\n",
      "Tag types. Model : word2vec Value : 1.073433512900482  Overall : 1.0746568109820487\n",
      "Tag types. Model : fastext Value : 1.0693030540328896  Overall : 1.0746568109820487\n",
      "Tag types. Model : Overall Value : 1.0746568109820487  Overall : 1.0746568109820487\n",
      "Multiple tag frequency. Model : random_init Value : 0.06633771929824561  Overall : 0.06293558606124604\n",
      "Multiple tag frequency. Model : word2vec Value : 0.06237595690388432  Overall : 0.06293558606124604\n",
      "Multiple tag frequency. Model : fastext Value : 0.05794831636648395  Overall : 0.06293558606124604\n",
      "Multiple tag frequency. Model : Overall Value : 0.06293558606124604  Overall : 0.06293558606124604\n",
      "Sent Lengths. Model : random_init Value : 18.79239302694136  Overall : 14.38991116751269\n",
      "Sent Lengths. Model : word2vec Value : 19.152459016393443  Overall : 14.38991116751269\n",
      "Sent Lengths. Model : fastext Value : 20.942196531791907  Overall : 14.38991116751269\n",
      "Sent Lengths. Model : Overall Value : 14.38991116751269  Overall : 14.38991116751269\n",
      "Rare. Model : random_init Value : 0.5916271721958926  Overall : 0.644586415601883\n",
      "Rare. Model : word2vec Value : 0.6092985318107668  Overall : 0.644586415601883\n",
      "Rare. Model : fastext Value : 0.5889243876464324  Overall : 0.644586415601883\n",
      "Unknown. Model : random_init  Value : 0.46445497630331756  Overall : 0.5171486213853396\n",
      "Unknown. Model : word2vec  Value : 0.48694942903752036  Overall : 0.5171486213853396\n",
      "Unknown. Model : fastext  Value : 0.4749733759318424  Overall : 0.5171486213853396\n",
      "Japanese\n",
      "BERT NER SENTS : 151\n",
      "random_init . Number of wrong entities : 221 Number of all entities : 1307 \n",
      "word2vec . Number of wrong entities : 197 Number of all entities : 1307 \n",
      "fastext . Number of wrong entities : 188 Number of all entities : 1307 \n",
      "random_init . Number of wrong entities : 221 Number of all entities : 1307 \n",
      "word2vec . Number of wrong entities : 197 Number of all entities : 1307 \n",
      "fastext . Number of wrong entities : 188 Number of all entities : 1307 \n"
     ]
    },
    {
     "name": "stdout",
     "output_type": "stream",
     "text": [
      "33 failed examples of random_init for 151 sentences\n",
      "31 failed examples of word2vec for 151 sentences\n",
      "25 failed examples of fastext for 151 sentences\n",
      "Entity Lengths. Model : random_init Value : 2.5464601769911503  Overall : 2.3727656808579787\n",
      "Entity Lengths. Model : word2vec Value : 2.557951482479784  Overall : 2.3727656808579787\n",
      "Entity Lengths. Model : fastext Value : 2.466321243523316  Overall : 2.3727656808579787\n",
      "Entity Lengths. Model : Overall Value : 2.3727656808579787  Overall : 2.3727656808579787\n",
      "Tag types. Model : random_init Value : 1.0455182072829132  Overall : 1.1096801888817343\n",
      "Tag types. Model : word2vec Value : 1.0369565217391303  Overall : 1.1096801888817343\n",
      "Tag types. Model : fastext Value : 1.0368466152527849  Overall : 1.1096801888817343\n",
      "Tag types. Model : Overall Value : 1.1096801888817343  Overall : 1.1096801888817343\n",
      "Multiple tag frequency. Model : random_init Value : 0.03361344537815126  Overall : 0.07598197037990985\n",
      "Multiple tag frequency. Model : word2vec Value : 0.02826086956521739  Overall : 0.07598197037990985\n",
      "Multiple tag frequency. Model : fastext Value : 0.030848329048843187  Overall : 0.07598197037990985\n",
      "Multiple tag frequency. Model : Overall Value : 0.07598197037990985  Overall : 0.07598197037990985\n",
      "Sent Lengths. Model : random_init Value : 137.8181818181818  Overall : 141.89403973509934\n",
      "Sent Lengths. Model : word2vec Value : 139.5483870967742  Overall : 141.89403973509934\n",
      "Sent Lengths. Model : fastext Value : 138.96  Overall : 141.89403973509934\n",
      "Sent Lengths. Model : Overall Value : 141.89403973509934  Overall : 141.89403973509934\n",
      "Rare. Model : random_init Value : 0.8778280542986425  Overall : 0.9265493496557001\n",
      "Rare. Model : word2vec Value : 0.8984771573604061  Overall : 0.9265493496557001\n",
      "Rare. Model : fastext Value : 0.8723404255319149  Overall : 0.9265493496557001\n",
      "Unknown. Model : random_init  Value : 0.8099547511312217  Overall : 0.8469778117827085\n",
      "Unknown. Model : word2vec  Value : 0.8274111675126904  Overall : 0.8469778117827085\n",
      "Unknown. Model : fastext  Value : 0.8085106382978723  Overall : 0.8469778117827085\n"
     ]
    }
   ],
   "source": [
    "model_list = [\"bert\",\"random_init\",\"word2vec\",\"fastext\"]\n",
    "modes = [\"bert_wrong\",\"bert_correct\"]\n",
    "analysis_dict = {}\n",
    "language_list = [\"cs\",\"hu\",\"fi\",\"tr\",\"en\",\"jp\"]\n",
    "for mode in modes:\n",
    "    bert_wrong = True if mode == \"bert_wrong\" else False\n",
    "    unknowns = defaultdict(list)\n",
    "    rares =  defaultdict(list)\n",
    "    lengths = defaultdict(list)\n",
    "    all_sent_lengths = defaultdict(list)\n",
    "    all_multiple_tag_freqs = defaultdict(list)\n",
    "    all_tag_types = defaultdict(list)\n",
    "    sent_count = defaultdict(list)\n",
    "    ent_counts = defaultdict(list)\n",
    "    models = [\"random_init\",\"word2vec\",\"fastext\",\"Overall\"]\n",
    "    for lang in language_list:\n",
    "        print(l2L[lang])\n",
    "        ner_sents = get_ner_sentences(model_list, lang)\n",
    "        common_sents = find_common_sents(ner_sents)\n",
    "        subword_diff_sents = find_tokenbased_difference(ner_sents,common_sents)\n",
    "        bert_diff_sents = find_bert_difference(ner_sents,common_sents,reverse=bert_wrong)\n",
    "        print(\"BERT NER SENTS : {}\".format(len(ner_sents[\"bert\"])))\n",
    "        all_unknown_freq, wrong_unknown_freq, entity_count = rare_analysis(bert_diff_sents, ner_sents,lang, rare_count = 0)\n",
    "        all_rare_freq, wrong_rare_freq, _ = rare_analysis(bert_diff_sents, ner_sents,lang, rare_count = 2)\n",
    "        entity_aver_lengths,sent_lengths = length_analysis(bert_diff_sents, ner_sents)\n",
    "        tag_types, multiple_tag_freqs = different_tag_analysis(bert_diff_sents, ner_sents)\n",
    "        for k,y in bert_diff_sents.items(): \n",
    "            print(\"{} failed examples of {} for {} sentences\".format(len(y),k,len(common_sents)))\n",
    "        for m in models[:-1]:\n",
    "            sent_count[m].append(len(bert_diff_sents[m]))\n",
    "        sent_count[\"Overall\"].append(len(ner_sents[\"bert\"]))\n",
    "        for m in models:\n",
    "            ent_counts[m].append(entity_count[m])\n",
    "\n",
    "\n",
    "        for x,val in entity_aver_lengths.items():\n",
    "            print(\"Entity Lengths. Model : {} Value : {}  Overall : {}\".format(x,val,entity_aver_lengths[\"Overall\"]))\n",
    "            lengths[x].append(val)\n",
    "        for x,val in tag_types.items():\n",
    "            print(\"Tag types. Model : {} Value : {}  Overall : {}\".format(x,val,tag_types[\"Overall\"]))\n",
    "            all_tag_types[x].append(val)   \n",
    "        for x,val in multiple_tag_freqs.items():\n",
    "            print(\"Multiple tag frequency. Model : {} Value : {}  Overall : {}\".format(x,val,multiple_tag_freqs[\"Overall\"]))\n",
    "            all_multiple_tag_freqs[x].append(val)\n",
    "        for x,val in sent_lengths.items():\n",
    "            print(\"Sent Lengths. Model : {} Value : {}  Overall : {}\".format(x,val,sent_lengths[\"Overall\"]))\n",
    "            all_sent_lengths[x].append(val)\n",
    "        for x in all_rare_freq :\n",
    "            print(\"Rare. Model : {} Value : {}  Overall : {}\".format(x,wrong_rare_freq[x],all_rare_freq[x]))\n",
    "            val = wrong_rare_freq[x]\n",
    "            overall = all_rare_freq[x]\n",
    "            rares[x].append(val)\n",
    "        rares[\"Overall\"].append(overall)\n",
    "        for x in all_unknown_freq :\n",
    "            val = wrong_unknown_freq[x]\n",
    "            overall = all_unknown_freq[x]\n",
    "            print(\"Unknown. Model : {}  Value : {}  Overall : {}\".format(x,wrong_unknown_freq[x],all_unknown_freq[x]))\n",
    "            unknowns[x].append(val)\n",
    "        unknowns[\"Overall\"].append(overall)\n",
    "    analysis_dict[mode] = {\"unknowns\":unknowns,\n",
    "                          \"rares\":rares,\n",
    "                          \"sent_lengths\":all_sent_lengths,\n",
    "                          \"lengths\":lengths,\n",
    "                          \"sentence_counts\":sent_count,\n",
    "                          \"entity_counts\":ent_counts,\n",
    "                          \"multiple_tag_frequency\":all_multiple_tag_freqs}\n"
   ]
  },
  {
   "cell_type": "code",
   "execution_count": 77,
   "metadata": {},
   "outputs": [
    {
     "data": {
      "text/plain": [
       "dict_keys(['unknowns', 'rares', 'sent_lengths', 'lengths', 'sentence_counts', 'entity_counts', 'multiple_tag_frequency'])"
      ]
     },
     "execution_count": 77,
     "metadata": {},
     "output_type": "execute_result"
    }
   ],
   "source": [
    "analysis_dict[\"bert_correct\"].keys()"
   ]
  },
  {
   "cell_type": "code",
   "execution_count": 70,
   "metadata": {},
   "outputs": [
    {
     "data": {
      "image/png": "[encoded data removed]",
      "text/plain": [
       "<Figure size 432x288 with 1 Axes>"
      ]
     },
     "metadata": {
      "needs_background": "light"
     },
     "output_type": "display_data"
    }
   ],
   "source": [
    "import matplotlib.pyplot as plt\n",
    "plt.bar(x=[\"A\",\"B\"],height=[10,20])\n",
    "plt.show()"
   ]
  },
  {
   "cell_type": "code",
   "execution_count": 73,
   "metadata": {},
   "outputs": [],
   "source": [
    "models = [\"random_init\",\"word2vec\",\"fastext\",\"Overall\"]\n",
    "def visualize_erroranalysis(analysis_dict,mode,key,langs):\n",
    "    for i,l in enumerate(langs):\n",
    "        res = analysis_dict[mode][key]\n",
    "        plt.bar(x = models,height = [res[m][i] for m in models])\n",
    "        plt.title(l.title())\n",
    "        plt.show()"
   ]
  },
  {
   "cell_type": "code",
   "execution_count": 78,
   "metadata": {
    "scrolled": true
   },
   "outputs": [
    {
     "data": {
      "image/png": "[encoded data removed]",
      "text/plain": [
       "<Figure size 432x288 with 1 Axes>"
      ]
     },
     "metadata": {
      "needs_background": "light"
     },
     "output_type": "display_data"
    },
    {
     "data": {
      "image/png": "[encoded data removed]",
      "text/plain": [
       "<Figure size 432x288 with 1 Axes>"
      ]
     },
     "metadata": {
      "needs_background": "light"
     },
     "output_type": "display_data"
    },
    {
     "data": {
      "image/png": "[encoded data removed]",
      "text/plain": [
       "<Figure size 432x288 with 1 Axes>"
      ]
     },
     "metadata": {
      "needs_background": "light"
     },
     "output_type": "display_data"
    },
    {
     "data": {
      "image/png": "[encoded data removed]",
      "text/plain": [
       "<Figure size 432x288 with 1 Axes>"
      ]
     },
     "metadata": {
      "needs_background": "light"
     },
     "output_type": "display_data"
    },
    {
     "data": {
      "image/png": "[encoded data removed]",
      "text/plain": [
       "<Figure size 432x288 with 1 Axes>"
      ]
     },
     "metadata": {
      "needs_background": "light"
     },
     "output_type": "display_data"
    },
    {
     "data": {
      "image/png": "[encoded data removed]",
      "text/plain": [
       "<Figure size 432x288 with 1 Axes>"
      ]
     },
     "metadata": {
      "needs_background": "light"
     },
     "output_type": "display_data"
    }
   ],
   "source": [
    "visualize_erroranalysis(analysis_dict,\"bert_correct\",\"unknowns\",langs)"
   ]
  },
  {
   "cell_type": "code",
   "execution_count": 20,
   "metadata": {
    "scrolled": true
   },
   "outputs": [
    {
     "data": {
      "text/plain": [
       "['unknowns',\n",
       " 'rares',\n",
       " 'sent_lengths',\n",
       " 'lengths',\n",
       " 'sentence_counts',\n",
       " 'entity_counts',\n",
       " 'multiple_tag_frequency']"
      ]
     },
     "execution_count": 20,
     "metadata": {},
     "output_type": "execute_result"
    }
   ],
   "source": [
    "analysis_keys = list(analysis_dict[\"bert_correct\"].keys())\n",
    "analysis_keys"
   ]
  },
  {
   "cell_type": "code",
   "execution_count": 36,
   "metadata": {},
   "outputs": [],
   "source": [
    "analysis_keys = [\"sentence_counts\",\n",
    "                 \"entity_counts\",\n",
    "                 \"lengths\",\"sent_lengths\",\n",
    "                 \"unknowns\",\"rares\",\n",
    "                 \"multiple_tag_frequency\"]\n",
    "\n",
    "analysis_key_map = {\"lengths\":\"Average Entity Length\",\n",
    "                    \"sent_lengths\":\"Average Sentence Length\",\n",
    "                    \"unknowns\":\"Unknown Entity Frequency\",\n",
    "                    \"rares\":\"Rare Entity Frequency\",\n",
    "                    \"multiple_tag_frequency\":\"Multi-tag Frequency\"}\n"
   ]
  },
  {
   "cell_type": "markdown",
   "metadata": {},
   "source": [
    "# Build Error Analysis Table !! "
   ]
  },
  {
   "cell_type": "code",
   "execution_count": 43,
   "metadata": {},
   "outputs": [],
   "source": [
    "lang_abs = {\"fi\": \"finnish\", \"en\": \"english\", \"hu\": \"hungarian\", \"cs\": \"czech\", \"tr\": \"turkish\", \"jp\": \"japanese\"}\n",
    "all_language_list = [\"cs\",\"hu\",\"fi\",\"tr\",\"en\",\"jp\"]\n",
    "\n",
    "models = [\"random_init\",\"word2vec\",\"fastext\",\"Overall\"]\n",
    "w_names = {\"Overall\":\"Overall\",\n",
    "           \"random_init\":\"Baseline\",\n",
    "           \"word2vec\":\"Word2Vec\",\n",
    "           \"fastext\":\"FastText\",\n",
    "           \"bert_en\":\"Bert English\",\n",
    "           \"mbert\":\"mBert\",\n",
    "           \"bert\":\"Bert\"}\n",
    "top_langs = [\"cs\",\"hu\",\"fi\"]\n",
    "bottom_langs = [\"tr\",\"en\",\"jp\"]\n",
    "language_inds = {x:i for i,x in enumerate(all_language_list)}\n",
    "\n"
   ]
  },
  {
   "cell_type": "code",
   "execution_count": 44,
   "metadata": {},
   "outputs": [],
   "source": [
    "def build_erroranalysis_table(analysis_dict,analysis_keys,models,language_list):\n",
    "    table = \"\"\n",
    "    header = \"&\" + \"&\".join([w_names[m] for m in models]*len(language_list)) + \"\\\\\\\\\\\\hline\\n\"\n",
    "    for mode in [\"bert_correct\",\"bert_wrong\"]:\n",
    "        name = \" \".join([x.title() for x in mode.split(\"_\")])\n",
    "        title = \"\\\\multicolumn{\"+str(1+len(language_list)*len(models))+\"}{c}{\"+name+\"}\\\\\\\\\\\\hline\\n\"\n",
    "        table = table + title\n",
    "        my_dict = analysis_dict[mode]\n",
    "        for k in analysis_keys:\n",
    "            try:\n",
    "                scores = \"&\".join([str(round(my_dict[k][m][language_inds[l]],3)) for l in language_list for m in models ])\n",
    "            except:\n",
    "                print(k)\n",
    "            row = \"{}&{}\\\\\\\\\\n\".format(analysis_key_map.get(k,\" \".join([x.title() for x in k.split(\"_\")])) ,scores)\n",
    "            table = table+row\n",
    "        table = table[:-1] + \"\\\\hline\\n\"\n",
    "        table +=\"\\n\\n\"\n",
    "    return header + table"
   ]
  },
  {
   "cell_type": "code",
   "execution_count": 45,
   "metadata": {},
   "outputs": [
    {
     "data": {
      "text/plain": [
       "[10, 20, 11, 21, 12, 22]"
      ]
     },
     "execution_count": 45,
     "metadata": {},
     "output_type": "execute_result"
    }
   ],
   "source": [
    "[x+2*y for x in range(3) for y in [5,10]]"
   ]
  },
  {
   "cell_type": "code",
   "execution_count": 46,
   "metadata": {},
   "outputs": [],
   "source": [
    "\n",
    "erroranalysis_table_top = build_erroranalysis_table(analysis_dict,analysis_keys,models,top_langs)\n",
    "erroranalysis_table_bottom = build_erroranalysis_table(analysis_dict,analysis_keys,models,bottom_langs)"
   ]
  },
  {
   "cell_type": "code",
   "execution_count": 47,
   "metadata": {},
   "outputs": [
    {
     "name": "stdout",
     "output_type": "stream",
     "text": [
      "&Baseline&Word2Vec&FastText&Overall&Baseline&Word2Vec&FastText&Overall&Baseline&Word2Vec&FastText&Overall\\\\\\hline\n",
      "\\multicolumn{13}{c}{Bert Correct}\\\\\\hline\n",
      "Sentence Counts&253&225&189&889&96&128&112&933&1188&1004&893&3506\\\\\n",
      "Entity Counts&1170&1119&998&2473&329&451&363&1147&2098&2030&1901&3170\\\\\n",
      "Average Entity Length&5.327&5.367&5.367&5.383&7.127&6.883&7.067&6.793&7.872&7.931&8.065&7.548\\\\\n",
      "Average Sentence Length&25.585&26.129&27.249&22.508&27.167&27.523&27.5&24.119&14.797&14.873&14.754&13.41\\\\\n",
      "Unknown Entity Frequency&0.547&0.537&0.548&0.558&0.505&0.441&0.457&0.407&0.57&0.57&0.566&0.565\\\\\n",
      "Rare Entity Frequency&0.719&0.714&0.705&0.74&0.669&0.599&0.592&0.593&0.696&0.705&0.692&0.718\\\\\n",
      "Multi-tag Frequency&0.039&0.04&0.041&0.035&0.012&0.014&0.011&0.009&0.03&0.03&0.031&0.029\\\\\\hline\n",
      "\n",
      "\n",
      "\\multicolumn{13}{c}{Bert Wrong}\\\\\\hline\n",
      "Sentence Counts&16&14&16&889&24&25&23&933&64&75&90&3506\\\\\n",
      "Entity Counts&51&36&66&2473&61&68&66&1147&177&205&241&3170\\\\\n",
      "Average Entity Length&5.057&4.923&5.111&5.383&6.346&6.198&6.138&6.793&7.675&7.347&7.742&7.548\\\\\n",
      "Average Sentence Length&22.5&25.357&29.375&22.508&25.792&26.56&25.696&24.119&15.828&15.533&15.6&13.41\\\\\n",
      "Unknown Entity Frequency&0.549&0.556&0.636&0.558&0.262&0.353&0.273&0.407&0.305&0.337&0.286&0.565\\\\\n",
      "Rare Entity Frequency&0.706&0.722&0.803&0.74&0.393&0.559&0.409&0.593&0.401&0.449&0.444&0.718\\\\\n",
      "Multi-tag Frequency&0.024&0.016&0.024&0.035&0.019&0.018&0.029&0.009&0.025&0.021&0.022&0.029\\\\\\hline\n",
      "\n",
      "\n",
      "\n",
      "&Baseline&Word2Vec&FastText&Overall&Baseline&Word2Vec&FastText&Overall&Baseline&Word2Vec&FastText&Overall\\\\\\hline\n",
      "\\multicolumn{13}{c}{Bert Correct}\\\\\\hline\n",
      "Sentence Counts&422&409&355&2729&631&610&346&3152&33&31&25&151\\\\\n",
      "Entity Counts&974&912&808&1683&1266&1226&939&2974&221&197&188&1307\\\\\n",
      "Average Entity Length&7.144&7.08&7.113&6.915&6.022&6.181&6.102&6.194&2.546&2.558&2.466&2.373\\\\\n",
      "Average Sentence Length&18.611&18.198&18.617&13.18&18.792&19.152&20.942&14.39&137.818&139.548&138.96&141.894\\\\\n",
      "Unknown Entity Frequency&0.436&0.458&0.444&0.377&0.464&0.487&0.475&0.517&0.81&0.827&0.809&0.847\\\\\n",
      "Rare Entity Frequency&0.569&0.577&0.561&0.534&0.592&0.609&0.589&0.645&0.878&0.898&0.872&0.927\\\\\n",
      "Multi-tag Frequency&0.02&0.02&0.021&0.011&0.066&0.062&0.058&0.063&0.034&0.028&0.031&0.076\\\\\\hline\n",
      "\n",
      "\n",
      "\\multicolumn{13}{c}{Bert Wrong}\\\\\\hline\n",
      "Sentence Counts&54&47&53&2729&62&84&117&3152&1&3&6&151\\\\\n",
      "Entity Counts&119&97&106&1683&141&168&259&2974&6&9&40&1307\\\\\n",
      "Average Entity Length&6.381&6.579&6.618&6.915&6.031&6.01&6.013&6.194&2.286&2.6&3.043&2.373\\\\\n",
      "Average Sentence Length&16.944&18.447&17.811&13.18&14.774&13.821&14.838&14.39&126.0&126.667&126.5&141.894\\\\\n",
      "Unknown Entity Frequency&0.378&0.371&0.349&0.377&0.397&0.399&0.432&0.517&0.667&0.667&0.85&0.847\\\\\n",
      "Rare Entity Frequency&0.504&0.485&0.453&0.534&0.482&0.44&0.514&0.645&0.667&0.667&0.85&0.927\\\\\n",
      "Multi-tag Frequency&0.009&0.007&0.003&0.011&0.023&0.026&0.038&0.063&0.013&0.006&0.012&0.076\\\\\\hline\n",
      "\n",
      "\n",
      "\n"
     ]
    }
   ],
   "source": [
    "print(erroranalysis_table_top)\n",
    "print(erroranalysis_table_bottom)"
   ]
  },
  {
   "cell_type": "code",
   "execution_count": 627,
   "metadata": {},
   "outputs": [
    {
     "name": "stdout",
     "output_type": "stream",
     "text": [
      "Language : tr\n",
      "Unk\n",
      "0.304&0.309&0.312&0.369\n",
      "Rare\n",
      "0.423&0.429&0.45&0.525\n",
      "Token lengths \n",
      "6.972&6.556&6.694&6.905\n",
      "Sentence lengths \n",
      "17.608&16.518&18.6&13.162\n",
      "Language : cs\n",
      "Unk\n",
      "0.519&0.412&0.507&0.55\n",
      "Rare\n",
      "0.636&0.625&0.667&0.736\n",
      "Token lengths \n",
      "5.074&5.284&5.2&5.442\n",
      "Sentence lengths \n",
      "24.423&24.926&23.76&22.487\n",
      "Language : fi\n",
      "Unk\n",
      "0.352&0.341&0.319&0.552\n",
      "Rare\n",
      "0.433&0.424&0.409&0.701\n",
      "Token lengths \n",
      "7.729&7.845&7.693&7.568\n",
      "Sentence lengths \n",
      "13.896&13.209&13.223&13.41\n",
      "Language : hu\n",
      "Unk\n",
      "0.346&0.4&0.34&0.411\n",
      "Rare\n",
      "0.423&0.58&0.5&0.597\n",
      "Token lengths \n",
      "5.586&6.661&7.259&6.813\n",
      "Sentence lengths \n",
      "29.5&31.385&27.571&24.119\n"
     ]
    }
   ],
   "source": [
    "for i,lang in enumerate(langs):\n",
    "    print(\"Language : {}\".format(lang))\n",
    "    keys = [\"random_init\",\"word2vec\",'fastext','Overall']\n",
    "    print(\"Unk\")\n",
    "    print(\"&\".join([str(round(unknowns[m][i],3)) for m in keys]))\n",
    "    print(\"Rare\")\n",
    "    print(\"&\".join([str(round(rares[m][i],3)) for m in keys]))\n",
    "    print(\"Token lengths \")\n",
    "    print(\"&\".join([str(round(lengths[m][i],3)) for m in keys]))\n",
    "    print(\"Sentence lengths \")\n",
    "    print(\"&\".join([str(round(all_sent_lengths[m][i],3)) for m in keys]))"
   ]
  },
  {
   "cell_type": "code",
   "execution_count": 26,
   "metadata": {},
   "outputs": [],
   "source": [
    "def modelwise_analysis_plotter(modelwise_data, y_label, save_name, label=True):\n",
    "    models = [] \n",
    "    l = len(modelwise_data)\n",
    "    width = 1.5\n",
    "    bar_width = 0.25\n",
    "    X = np.linspace(0,l*width,l)\n",
    "    fig, ax = plt.subplots()\n",
    "    for i, model in enumerate(modelwise_data.keys()):\n",
    "        data = modelwise_data[model]\n",
    "        x = X -((l-1)*bar_width)/2+i*bar_width \n",
    "        ax.bar(x, data, width = bar_width,label=model[0].upper() + model[1:] if model!=\"random_init\" else \"Baseline\")\n",
    "    ax.set_xticks(X)\n",
    "    ax.set_ylabel(y_label)\n",
    "    ax.set_xticklabels([l2L[l] for l in langs])\n",
    "    if label: \n",
    "        ax.legend(loc=4)\n",
    "    plt.tight_layout()\n",
    "    fig.savefig(save_name)\n",
    "    plt.show()"
   ]
  },
  {
   "cell_type": "code",
   "execution_count": 559,
   "metadata": {},
   "outputs": [
    {
     "data": {
      "image/png": "[encoded data removed]",
      "text/plain": [
       "<Figure size 432x288 with 1 Axes>"
      ]
     },
     "metadata": {
      "needs_background": "light"
     },
     "output_type": "display_data"
    }
   ],
   "source": [
    "modelwise_analysis_plotter(unknowns,\"Unknown word frequency\",\"unk\",label=True)"
   ]
  },
  {
   "cell_type": "code",
   "execution_count": 561,
   "metadata": {},
   "outputs": [
    {
     "data": {
      "image/png": "[encoded data removed]",
      "text/plain": [
       "<Figure size 432x288 with 1 Axes>"
      ]
     },
     "metadata": {
      "needs_background": "light"
     },
     "output_type": "display_data"
    }
   ],
   "source": [
    "modelwise_analysis_plotter(rares,\"Rare word frequency\",\"unk\",label=True)"
   ]
  },
  {
   "cell_type": "code",
   "execution_count": null,
   "metadata": {},
   "outputs": [],
   "source": []
  },
  {
   "cell_type": "code",
   "execution_count": 7,
   "metadata": {},
   "outputs": [],
   "source": [
    "def rare_analysis(diff_sents, ner_sents, lang, rare_count = 5):\n",
    "    \"\"\"\n",
    "        Frequency of tokens for which at least one token-based model failed to find the correct value.\n",
    "    \"\"\"\n",
    "    avg_all_entities = defaultdict(int)\n",
    "    avg_wrong_entities = defaultdict(int)\n",
    "    entity_count = defaultdict(int)\n",
    "    all_entities = set()\n",
    "    for sent in ner_sents[\"bert\"]:\n",
    "        sentence = ner_sents[\"bert\"][sent][0].split()\n",
    "        labels = ner_sents[\"bert\"][sent][1]\n",
    "        for word,label in zip(sentence,labels):\n",
    "            if label !=\"O\":\n",
    "                all_entities.add(word.lower())\n",
    "    for model,sents in diff_sents.items():\n",
    "        wrong_entities = set()\n",
    "        for sent in sents:\n",
    "            for i, label in enumerate(ner_sents[\"bert\"][sent][1]):\n",
    "                word = ner_sents[\"bert\"][sent][0].split()[i]\n",
    "                if label != \"O\":\n",
    "                    wrong_entities.add(word.lower())\n",
    "        \n",
    "        print(\"{} . Number of wrong entities : {} Number of all entities : {} \".format(model, len(wrong_entities),len(all_entities)))\n",
    "        average_occurrence_all_entities = sum([1 if counts[lang][word] <= rare_count else 0 for word in all_entities])/len(all_entities)\n",
    "        average_occurrence_wrong_entities = sum([1 if counts[lang][word] <= rare_count else 0 for word in wrong_entities])/len(wrong_entities)\n",
    "        avg_all_entities[model] = average_occurrence_all_entities\n",
    "        avg_wrong_entities[model] = average_occurrence_wrong_entities\n",
    "        entity_count[model] = len(wrong_entities)\n",
    "    entity_count[\"Overall\"] = len(all_entities)\n",
    "    return avg_all_entities, avg_wrong_entities, entity_count\n",
    "\n",
    "\n"
   ]
  },
  {
   "cell_type": "code",
   "execution_count": 8,
   "metadata": {},
   "outputs": [],
   "source": [
    "def suffix_analysis(suff, diff_sents, ner_sents, models1=[\"bert\",\"fastext\"], models2=[\"random_init\",\"word2vec\"]):\n",
    "    \"\"\"\n",
    "        Count the number of tokens for which at least one token-based model failed to find the correct value.\n",
    "    \"\"\"\n",
    "    wrong_count = 0\n",
    "    suff_wrong_count = 0\n",
    "    for sent in diff_sents:\n",
    "        for i, label in enumerate(ner_sents[\"bert\"][sent][1]):\n",
    "            word = ner_sents[\"bert\"][sent][0].split()[i]\n",
    "            if label != \"O\" and any([ner_sents[model][sent][1][i]!=label for model in models2]):\n",
    "                wrong_count += 1\n",
    "                if suff in word:\n",
    "                    suff_wrong_count += 1\n",
    "    total_ents = 0\n",
    "    total_suff = 0\n",
    "    for sent in ner_sents[\"bert\"]:\n",
    "        sentence = ner_sents[\"bert\"][sent][0].split()\n",
    "        labels = ner_sents[\"bert\"][sent][1]\n",
    "        for word,label in zip(sentence,labels):\n",
    "            if label !=\"O\":\n",
    "                total_ents += 1\n",
    "                if suff in word :\n",
    "                    total_suff += 1\n",
    "    return suff_wrong_count, wrong_count,total_suff, total_ents"
   ]
  },
  {
   "cell_type": "markdown",
   "metadata": {},
   "source": [
    "## Suffix Analysis\n",
    "\n",
    "We check the sentences for which all models except bert failed.\n",
    "\n",
    "Observation : \n",
    "\n",
    "- We observed that many of the wrong predictions contained apostrophe (with at least one suffix)\n",
    "- The ratio of  entity-with-suffix / entities  is much higher among the wrong predictions of the token-based systems"
   ]
  },
  {
   "cell_type": "code",
   "execution_count": 170,
   "metadata": {},
   "outputs": [],
   "source": [
    "suff_wrong_count, wrong_count,total_suff, total_ents = suffix_analysis(\"'\",bert_diff_sents,ner_sents)"
   ]
  },
  {
   "cell_type": "code",
   "execution_count": 171,
   "metadata": {
    "scrolled": true
   },
   "outputs": [
    {
     "data": {
      "text/plain": [
       "(140, 247, 1162, 3775)"
      ]
     },
     "execution_count": 171,
     "metadata": {},
     "output_type": "execute_result"
    }
   ],
   "source": [
    "suff_wrong_count, wrong_count, total_suff, total_ents"
   ]
  },
  {
   "cell_type": "code",
   "execution_count": 9,
   "metadata": {},
   "outputs": [],
   "source": [
    "def length_analysis(diff_sents, ner_sents):\n",
    "    \"\"\"\n",
    "        Length of tokens for which at least one token-based model failed to find the correct value.\n",
    "    \"\"\"\n",
    "    all_lengths = []\n",
    "    entity_aver_lengths = defaultdict(int)\n",
    "    sent_lengths = defaultdict(int)\n",
    "    for sent in ner_sents[\"bert\"]:\n",
    "        sentence = ner_sents[\"bert\"][sent][0].split()\n",
    "        labels = ner_sents[\"bert\"][sent][1]\n",
    "        for word,label in zip(sentence,labels):\n",
    "            if label !=\"O\":\n",
    "                all_lengths.append(len(word))\n",
    "    all_aver = sum(all_lengths)/len(all_lengths)\n",
    "    for model,sents in diff_sents.items():\n",
    "        wrong_lengths = []\n",
    "        for sent in sents:\n",
    "            for i, label in enumerate(ner_sents[\"bert\"][sent][1]):\n",
    "                word = ner_sents[\"bert\"][sent][0].split()[i]\n",
    "                if label != \"O\" :\n",
    "                    wrong_lengths.append(len(word))\n",
    "        sent_lengths[model] = sum([len(ner_sents[\"bert\"][x][0].split()) for x in sents])/len(sents)\n",
    "        wrong_aver = sum(wrong_lengths)/len(wrong_lengths)\n",
    "        entity_aver_lengths[model] = wrong_aver\n",
    "    entity_aver_lengths[\"Overall\"] = all_aver\n",
    "    sent_lengths[\"Overall\"] = sum([len(ner_sents[\"bert\"][sent][0].split()) for sent in ner_sents[\"bert\"]])/len(ner_sents[\"bert\"])\n",
    "    return entity_aver_lengths, sent_lengths"
   ]
  },
  {
   "cell_type": "markdown",
   "metadata": {},
   "source": [
    "## Length of Words Analysis\n",
    "\n",
    "We compare the length of wrong predictions with all entities\n",
    "\n",
    "Observation :  Average of all tokens is a lot smaller than long words !  \n"
   ]
  },
  {
   "cell_type": "code",
   "execution_count": 173,
   "metadata": {},
   "outputs": [
    {
     "data": {
      "text/plain": [
       "(8.178137651821862, 6.905430463576159)"
      ]
     },
     "execution_count": 173,
     "metadata": {},
     "output_type": "execute_result"
    }
   ],
   "source": [
    "wrong_aver, all_aver = length_analysis(bert_diff_sents, ner_sents)\n",
    "wrong_aver, all_aver"
   ]
  },
  {
   "cell_type": "code",
   "execution_count": 10,
   "metadata": {},
   "outputs": [],
   "source": [
    "def frequency_analysis(diff_sents, ner_sents,lang):\n",
    "    \"\"\"\n",
    "        Frequency of tokens for which at least one token-based model failed to find the correct value.\n",
    "    \"\"\"\n",
    "    avg_all_entities = defaultdict(int)\n",
    "    avg_wrong_entities = defaultdict(int)\n",
    "\n",
    "    for model,sents in diff_sents.items():\n",
    "        wrong_entities = set()\n",
    "        all_entities = set()\n",
    "        for sent in sents:\n",
    "            for i, label in enumerate(ner_sents[\"bert\"][sent][1]):\n",
    "                word = ner_sents[\"bert\"][sent][0].split()[i]\n",
    "                if label != \"O\":\n",
    "                    wrong_entities.add(word)\n",
    "        for sent in ner_sents[\"bert\"]:\n",
    "            sentence = ner_sents[\"bert\"][sent][0].split()\n",
    "            labels = ner_sents[\"bert\"][sent][1]\n",
    "            for word,label in zip(sentence,labels):\n",
    "                if label !=\"O\":\n",
    "                    all_entities.add(word)\n",
    "        average_occurrence_all_entities = sum([counts[lang][word]for word in all_entities])/len(all_entities)\n",
    "        average_occurrence_wrong_entities = sum([counts[lang][word]for word in wrong_entities])/len(wrong_entities)\n",
    "        avg_all_entities[model] = average_occurrence_all_entities\n",
    "        avg_wrong_entities[model] = average_occurrence_wrong_entities\n",
    "    return avg_all_entities, avg_wrong_entities\n",
    "\n",
    "\n"
   ]
  },
  {
   "cell_type": "markdown",
   "metadata": {},
   "source": [
    "## # of Occurrence Analysis\n",
    "\n",
    "We compare the length of wrong predictions with all entities\n",
    "\n",
    "Observation :  Frequency of wrong predictions\n"
   ]
  },
  {
   "cell_type": "code",
   "execution_count": 353,
   "metadata": {},
   "outputs": [
    {
     "ename": "TypeError",
     "evalue": "frequency_analysis() missing 1 required positional argument: 'lang'",
     "output_type": "error",
     "traceback": [
      "\u001b[0;31m---------------------------------------------------------------------------\u001b[0m",
      "\u001b[0;31mTypeError\u001b[0m                                 Traceback (most recent call last)",
      "\u001b[0;32m<ipython-input-353-d394fe64e099>\u001b[0m in \u001b[0;36m<module>\u001b[0;34m\u001b[0m\n\u001b[0;32m----> 1\u001b[0;31m \u001b[0maverage_occurrence_all_entities\u001b[0m\u001b[0;34m,\u001b[0m \u001b[0maverage_occurrence_wrong_entities\u001b[0m \u001b[0;34m=\u001b[0m \u001b[0mfrequency_analysis\u001b[0m\u001b[0;34m(\u001b[0m\u001b[0mbert_diff_sents\u001b[0m\u001b[0;34m,\u001b[0m \u001b[0mner_sents\u001b[0m\u001b[0;34m)\u001b[0m\u001b[0;34m\u001b[0m\u001b[0;34m\u001b[0m\u001b[0m\n\u001b[0m",
      "\u001b[0;31mTypeError\u001b[0m: frequency_analysis() missing 1 required positional argument: 'lang'"
     ]
    }
   ],
   "source": [
    "average_occurrence_all_entities, average_occurrence_wrong_entities = frequency_analysis(bert_diff_sents, ner_sents)"
   ]
  },
  {
   "cell_type": "code",
   "execution_count": 166,
   "metadata": {},
   "outputs": [
    {
     "data": {
      "text/plain": [
       "(2.212778429073857, 2.1745283018867925)"
      ]
     },
     "execution_count": 166,
     "metadata": {},
     "output_type": "execute_result"
    }
   ],
   "source": [
    "average_occurrence_all_entities, average_occurrence_wrong_entities"
   ]
  },
  {
   "cell_type": "code",
   "execution_count": 11,
   "metadata": {},
   "outputs": [],
   "source": [
    "def different_tag_analysis(diff_sents, ner_sents):\n",
    "    \"\"\"\n",
    "        Length of tokens for which at least one token-based model failed to find the correct value.\n",
    "    \"\"\"\n",
    "    all_tag_types = defaultdict(set)\n",
    "    wrong_tag_types = {}\n",
    "    multiple_tag_freqs = {}\n",
    "    for model,sents in diff_sents.items():\n",
    "        wrong_tags = defaultdict(set)\n",
    "        for sent in sents : \n",
    "            for i, label in enumerate(ner_sents[\"bert\"][sent][1]):\n",
    "                word = ner_sents[\"bert\"][sent][0].split()[i]\n",
    "                wrong_tags[word.lower()].add(label)\n",
    "        wrong_tags_new = []\n",
    "        for k,v in wrong_tags.items():\n",
    "            if len(v)>1 or list(v)[0]!=\"0\":\n",
    "                wrong_tags_new.append(len(v))\n",
    "        wrong_tag_types[model] = sum(wrong_tags_new)/len(wrong_tags_new)\n",
    "        multiple_tag_freqs[model] = sum([1 if w>1 else 0 for w in wrong_tags_new])/len(wrong_tags_new)\n",
    "    for sent in ner_sents[\"bert\"]:\n",
    "        sentence = ner_sents[\"bert\"][sent][0].split()\n",
    "        labels = ner_sents[\"bert\"][sent][1]\n",
    "        for word,label in zip(sentence,labels):\n",
    "            all_tag_types[word].add(label)\n",
    "    all_entities_new = []\n",
    "    for k,v in all_tag_types.items():\n",
    "        if len(v)>1 or list(v)[0]!=\"0\":\n",
    "            all_entities_new.append(len(v))\n",
    "    multiple_tag_freqs[\"Overall\"] = sum([1 if w>1 else 0 for w in all_entities_new])/len(all_entities_new)\n",
    "    wrong_tag_types[\"Overall\"] = sum(all_entities_new)/len(all_entities_new)\n",
    "    return wrong_tag_types, multiple_tag_freqs"
   ]
  },
  {
   "cell_type": "markdown",
   "metadata": {},
   "source": [
    "## # of Tags Analysis\n",
    "\n",
    "We compare the number of different tags for each entity\n",
    "\n",
    "Observation :  BERT performed better on entities with more labels\n"
   ]
  },
  {
   "cell_type": "code",
   "execution_count": 183,
   "metadata": {},
   "outputs": [
    {
     "data": {
      "text/plain": [
       "(1.0287221570926144, 1.0636363636363637)"
      ]
     },
     "execution_count": 183,
     "metadata": {},
     "output_type": "execute_result"
    }
   ],
   "source": [
    "aver_tag_type, aver_wrong_tag_type = different_tag_analysis(bert_diff_sents, ner_sents)\n",
    "aver_tag_type, aver_wrong_tag_type "
   ]
  },
  {
   "cell_type": "code",
   "execution_count": 322,
   "metadata": {},
   "outputs": [],
   "source": []
  },
  {
   "cell_type": "code",
   "execution_count": 330,
   "metadata": {},
   "outputs": [
    {
     "data": {
      "text/plain": [
       "[25513, 7142, 15427, 7688]"
      ]
     },
     "execution_count": 330,
     "metadata": {},
     "output_type": "execute_result"
    }
   ],
   "source": [
    "list(map(lambda x : len(x[1]),datasets.items()))"
   ]
  },
  {
   "cell_type": "code",
   "execution_count": 12,
   "metadata": {},
   "outputs": [],
   "source": [
    "def sentence_length_analysis(diff_sents, ner_sents, models1=[\"bert\",\"fastext\"],models2=[\"random_init\",\"word2vec\"]):\n",
    "    \"\"\"\n",
    "        Length of tokens for which at least one token-based model failed to find the correct value.\n",
    "    \"\"\"\n",
    "    wrong_lengths = []\n",
    "    all_lengths = []\n",
    "    for sent in diff_sents:\n",
    "        sentence = ner_sents[\"bert\"][sent][0].split()\n",
    "        wrong_lengths.append(len(sentence))\n",
    "    for sent in ner_sents[\"bert\"]:\n",
    "        sentence = ner_sents[\"bert\"][sent][0].split()\n",
    "        all_lengths.append(len(sentence))\n",
    "    wrong_length = sum(wrong_lengths)/len(wrong_lengths)\n",
    "    all_length = sum(all_lengths)/len(all_lengths)\n",
    "    return wrong_length, all_length"
   ]
  },
  {
   "cell_type": "code",
   "execution_count": 13,
   "metadata": {},
   "outputs": [],
   "source": [
    "def is_title_analysis(diff_sents, ner_sents, models1=[\"bert\",\"fastext\"],models2=[\"random_init\",\"word2vec\"]):\n",
    "    \"\"\"\n",
    "        Length of tokens for which at least one token-based model failed to find the correct value.\n",
    "    \"\"\"\n",
    "    wrong_entities = set()\n",
    "    all_entities = defaultdict(int)\n",
    "    for sent in diff_sents:\n",
    "        for i, label in enumerate(ner_sents[\"bert\"][sent][1]):\n",
    "            word = ner_sents[\"bert\"][sent][0].split()[i]\n",
    "            if label != \"O\" and any([ner_sents[model][sent][1][i]!=label for model in models2]):\n",
    "                wrong_entities.add(word)\n",
    "    for sent in ner_sents[\"bert\"]:\n",
    "        sentence = ner_sents[\"bert\"][sent][0].split()\n",
    "        labels = ner_sents[\"bert\"][sent][1]\n",
    "        for word,label in zip(sentence,labels):\n",
    "            if label !=\"O\":\n",
    "                all_entities[word] = 1 if word[0].istitle() or word.isupper() else 0\n",
    "    aver_caps_frequency = sum([v for v in all_entities.values()])/len(all_entities)\n",
    "    aver_wrong_caps_frequency = sum([all_entities[wrong] for wrong in wrong_entities])/len(wrong_entities)\n",
    "#     for wrong in wrong_entities: \n",
    "#         print(wrong, all_entities[wrong])\n",
    "    return aver_caps_frequency, aver_wrong_caps_frequency"
   ]
  },
  {
   "cell_type": "code",
   "execution_count": null,
   "metadata": {},
   "outputs": [],
   "source": []
  },
  {
   "cell_type": "code",
   "execution_count": 362,
   "metadata": {
    "scrolled": true
   },
   "outputs": [
    {
     "name": "stdout",
     "output_type": "stream",
     "text": [
      "Lang tr\n",
      "151 unique bert corrects for 2729 sentences\n",
      "34 unique subword corrects for 2729 sentences\n",
      "Number of wrong entities 212 Number of all entities 1706 \n",
      "\n",
      "Apostrophe analysis\n",
      "Frequency of entities with apostrophe. All entities : 0.30781456953642383   Wrongs : 0.5668016194331984\n",
      " \n",
      "Length analysis\n",
      "Average length of entities. All entities : 6.905430463576159   Wrongs : 8.178137651821862 \n",
      "\n",
      "# of occurrence analysis\n",
      "Average occurence of entities. All entities : 10.762602579132473   Wrongs : 7.061320754716981 \n",
      "\n",
      "Tag type analysis\n",
      "Average number of tags. All entities : 1.0287221570926144   Wrongs : 1.0613207547169812\n",
      " \n",
      "Caps analysis\n",
      "Average number of entities with capitalization. All entities : 0.9923798358733881   Wrongs : 1.0\n",
      " \n",
      "Sentence length analysis\n",
      "Average length of sentences. All sentences : 13.162330524001465   Wrongs : 18.344370860927153\n",
      " \n",
      "Lang cs\n",
      "124 unique bert corrects for 889 sentences\n",
      "13 unique subword corrects for 889 sentences\n",
      "Number of wrong entities 317 Number of all entities 2540 \n",
      "\n",
      "Apostrophe analysis\n",
      "Frequency of entities with apostrophe. All entities : 0.001969057665260197   Wrongs : 0.0\n",
      " \n",
      "Length analysis\n",
      "Average length of entities. All entities : 5.441631504922644   Wrongs : 6.099125364431487 \n",
      "\n",
      "# of occurrence analysis\n",
      "Average occurence of entities. All entities : 3.7984251968503937   Wrongs : 1.8769716088328077 \n",
      "\n",
      "Tag type analysis\n",
      "Average number of tags. All entities : 1.0720472440944881   Wrongs : 1.1009463722397477\n",
      " \n",
      "Caps analysis\n",
      "Average number of entities with capitalization. All entities : 0.7043307086614173   Wrongs : 0.7949526813880127\n",
      " \n",
      "Sentence length analysis\n",
      "Average length of sentences. All sentences : 22.487064116985376   Wrongs : 23.362903225806452\n",
      " \n",
      "Lang fi\n",
      "646 unique bert corrects for 3506 sentences\n",
      "32 unique subword corrects for 3506 sentences\n",
      "Number of wrong entities 955 Number of all entities 3269 \n",
      "\n",
      "Apostrophe analysis\n",
      "Frequency of entities with apostrophe. All entities : 0.0006331518298087882   Wrongs : 0.0024896265560165973\n",
      " \n",
      "Length analysis\n",
      "Average length of entities. All entities : 7.567557300240598   Wrongs : 8.932780082987552 \n",
      "\n",
      "# of occurrence analysis\n",
      "Average occurence of entities. All entities : 7.623126338329764   Wrongs : 6.0879581151832465 \n",
      "\n",
      "Tag type analysis\n",
      "Average number of tags. All entities : 1.103395533802386   Wrongs : 1.1507853403141362\n",
      " \n",
      "Caps analysis\n",
      "Average number of entities with capitalization. All entities : 0.7090853472009789   Wrongs : 0.7958115183246073\n",
      " \n",
      "Sentence length analysis\n",
      "Average length of sentences. All sentences : 13.410154021677124   Wrongs : 14.645510835913313\n",
      " \n",
      "Lang hu\n",
      "76 unique bert corrects for 933 sentences\n",
      "8 unique subword corrects for 933 sentences\n",
      "Number of wrong entities 168 Number of all entities 1167 \n",
      "\n",
      "Apostrophe analysis\n",
      "Frequency of entities with apostrophe. All entities : 0.001918649270913277   Wrongs : 0.011560693641618497\n",
      " \n",
      "Length analysis\n",
      "Average length of entities. All entities : 6.813123561013047   Wrongs : 7.641618497109826 \n",
      "\n",
      "# of occurrence analysis\n",
      "Average occurence of entities. All entities : 12.086546700942588   Wrongs : 8.178571428571429 \n",
      "\n",
      "Tag type analysis\n",
      "Average number of tags. All entities : 1.035132819194516   Wrongs : 1.0238095238095237\n",
      " \n",
      "Caps analysis\n",
      "Average number of entities with capitalization. All entities : 0.9768637532133676   Wrongs : 0.9642857142857143\n",
      " \n",
      "Sentence length analysis\n",
      "Average length of sentences. All sentences : 24.118971061093248   Wrongs : 27.894736842105264\n",
      " \n"
     ]
    }
   ],
   "source": [
    "import matplotlib.pyplot as plt\n",
    "import numpy as np\n",
    "\n",
    "word_lengths = [[],[]]\n",
    "sentence_lengths = [[],[]]\n",
    "tag_types = [[],[]]\n",
    "freqs = [[],[]]\n",
    "langs = [\"tr\",\"cs\",\"fi\",\"hu\"]\n",
    "for lang in langs:\n",
    "    model_list = [\"bert\",\"fastext\",\"random_init\",\"word2vec\"]\n",
    "    ner_sents = get_ner_sentences(model_list, lang)\n",
    "    common_sents = find_common_sents(ner_sents)\n",
    "    subword_diff_sents = find_tokenbased_difference(ner_sents,common_sents)\n",
    "    bert_diff_sents = find_bert_difference(ner_sents,common_sents)\n",
    "    print(\"Lang {}\".format(lang))\n",
    "    print(\"{} unique bert corrects for {} sentences\".format(len(bert_diff_sents),len(common_sents)))\n",
    "    print(\"{} unique subword corrects for {} sentences\".format(len(subword_diff_sents),len(common_sents)))\n",
    "    suff_wrong_count, wrong_count,total_suff, total_ents = suffix_analysis(\"'\",bert_diff_sents,ner_sents)\n",
    "    suff_wrong_freq = suff_wrong_count/ wrong_count\n",
    "    suff_total_freq = total_suff / total_ents\n",
    "    wrong_aver, all_aver = length_analysis(bert_diff_sents, ner_sents)\n",
    "    average_occurrence_all_entities, average_occurrence_wrong_entities = frequency_analysis(bert_diff_sents, ner_sents,lang)\n",
    "    aver_tag_type, aver_wrong_tag_type = different_tag_analysis(bert_diff_sents, ner_sents)\n",
    "    aver_caps_frequency, aver_wrong_caps_frequency = is_title_analysis(bert_diff_sents, ner_sents)\n",
    "    wrong_length, all_length = sentence_length_analysis(bert_diff_sents, ner_sents)\n",
    "    word_lengths[0].append(wrong_aver)\n",
    "    word_lengths[1].append(all_aver)\n",
    "    tag_types[0].append(aver_wrong_tag_type)\n",
    "    tag_types[1].append(aver_tag_type)\n",
    "    sentence_lengths[0].append(wrong_length)\n",
    "    sentence_lengths[1].append(all_length)\n",
    "    freqs[0].append(average_occurrence_wrong_entities)\n",
    "    freqs[1].append(average_occurrence_all_entities)\n",
    "    print(\"\\nApostrophe analysis\")\n",
    "    print(\"Frequency of entities with apostrophe. All entities : {}   Wrongs : {}\\n \".format(suff_total_freq, suff_wrong_freq))\n",
    "    print(\"Length analysis\")\n",
    "    print(\"Average length of entities. All entities : {}   Wrongs : {} \\n\".format(all_aver, wrong_aver))\n",
    "    print(\"# of occurrence analysis\")\n",
    "    print(\"Average occurence of entities. All entities : {}   Wrongs : {} \\n\".format(average_occurrence_all_entities, average_occurrence_wrong_entities))\n",
    "    print(\"Tag type analysis\")\n",
    "    print(\"Average number of tags. All entities : {}   Wrongs : {}\\n \".format(aver_tag_type, aver_wrong_tag_type))\n",
    "    print(\"Caps analysis\")\n",
    "    print(\"Average number of entities with capitalization. All entities : {}   Wrongs : {}\\n \".format(aver_caps_frequency, aver_wrong_caps_frequency))\n",
    "    print(\"Sentence length analysis\")\n",
    "    print(\"Average length of sentences. All sentences : {}   Wrongs : {}\\n \".format(all_length, wrong_length))\n",
    "   \n"
   ]
  },
  {
   "cell_type": "code",
   "execution_count": 378,
   "metadata": {},
   "outputs": [],
   "source": [
    "\n",
    "def analysis_plotter(data,y_label,save_name,label=True):\n",
    "    X = np.arange(len(data[0]))\n",
    "    fig, ax = plt.subplots()\n",
    "    ax.bar(X -.125, data[0], width = 0.25,label='Others failed')\n",
    "    ax.bar(X +.125, data[1],  width = 0.25,label='All sentences')\n",
    "    ax.set_xticks(X)\n",
    "    ax.set_ylabel(y_label)\n",
    "    ax.set_xticklabels([l2L[l] for l in langs])\n",
    "    if label: \n",
    "        ax.legend(loc=9)\n",
    "    plt.tight_layout()\n",
    "    fig.savefig(save_name)\n",
    "    plt.show()"
   ]
  },
  {
   "cell_type": "code",
   "execution_count": 380,
   "metadata": {},
   "outputs": [
    {
     "data": {
      "image/png": "[encoded data removed]",
      "text/plain": [
       "<Figure size 432x288 with 1 Axes>"
      ]
     },
     "metadata": {
      "needs_background": "light"
     },
     "output_type": "display_data"
    },
    {
     "data": {
      "image/png": "[encoded data removed]",
      "text/plain": [
       "<Figure size 432x288 with 1 Axes>"
      ]
     },
     "metadata": {
      "needs_background": "light"
     },
     "output_type": "display_data"
    },
    {
     "data": {
      "image/png": "[encoded data removed]",
      "text/plain": [
       "<Figure size 432x288 with 1 Axes>"
      ]
     },
     "metadata": {
      "needs_background": "light"
     },
     "output_type": "display_data"
    },
    {
     "data": {
      "image/png": "[encoded data removed]",
      "text/plain": [
       "<Figure size 432x288 with 1 Axes>"
      ]
     },
     "metadata": {
      "needs_background": "light"
     },
     "output_type": "display_data"
    }
   ],
   "source": [
    "analysis_plotter(freqs,\"Average number of occurrence per entity\",\"freqs.png\",label=True)\n",
    "analysis_plotter(tag_types,\"Average # of tag types per entity\",\"ent_type.png\",label=False)\n",
    "analysis_plotter(sentence_lengths,\"Average sentence lengths\",\"ner_sent_lens.png\",label=False)\n",
    "\n",
    "analysis_plotter(word_lengths,\"Average word lengths\",\"ner_word_lens.png\",label=False)"
   ]
  },
  {
   "cell_type": "code",
   "execution_count": null,
   "metadata": {},
   "outputs": [],
   "source": []
  }
 ],
 "metadata": {
  "kernelspec": {
   "display_name": "Python 3",
   "language": "python",
   "name": "python3"
  },
  "language_info": {
   "codemirror_mode": {
    "name": "ipython",
    "version": 3
   },
   "file_extension": ".py",
   "mimetype": "text/x-python",
   "name": "python",
   "nbconvert_exporter": "python",
   "pygments_lexer": "ipython3",
   "version": "3.7.4"
  }
 },
 "nbformat": 4,
 "nbformat_minor": 2
}
