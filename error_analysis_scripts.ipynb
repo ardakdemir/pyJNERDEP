{
 "cells": [
  {
   "cell_type": "code",
   "execution_count": 439,
   "metadata": {},
   "outputs": [],
   "source": [
    "from collections import defaultdict\n",
    "import os\n",
    "root_folder = \"model_save_dir_NER_03_16_21_16\"\n",
    "train_folder = \"datasets\"\n",
    "l2L= {\"tr\":\"Turkish\",\"cs\":\"Czech\",\"fi\":\"Finnish\",\"hu\":\"Hungarian\"}\n",
    "def get_datasets(langs):\n",
    "    datasets = {}\n",
    "    for lang in langs :\n",
    "        path = os.path.join(train_folder,\"myner_{}-train.txt\".format(l2L[lang].lower()))\n",
    "        with open(path,\"r\") as f:\n",
    "            x = f.read().split(\"\\n\\n\")[:-1]\n",
    "            datasets[lang] = [[w.split()[0] for w in y.split(\"\\n\")] for y in x]\n",
    "    return datasets\n",
    "def get_freqs(datasets):\n",
    "    freqs = {}\n",
    "    for d in datasets:\n",
    "        freqs[d]=defaultdict(int)\n",
    "        for sent in datasets[d]:\n",
    "            for word in sent:\n",
    "                if len(word)>3:\n",
    "                    freqs[d][word.lower()]+=1\n",
    "    return freqs\n",
    "datasets = get_datasets(langs)\n",
    "counts = get_freqs(datasets)\n",
    "def get_ner_sentences(model_list, lang):\n",
    "    \"\"\"\n",
    "        Finds the common sentences for each model together with predictions and labels\n",
    "    \"\"\"\n",
    "    ner_sents = defaultdict(dict)\n",
    "    for model in model_list:\n",
    "        with open(os.path.join(root_folder,\"NER_{}_{}_joint_ner_out.txt\".format(model,lang)),\"r\") as f:\n",
    "            sents = f.read().split(\"\\n\\n\")\n",
    "            for sent in sents[:-1]:\n",
    "                \n",
    "                tokens = sent.split(\"\\n\")\n",
    "                \n",
    "                key=\"\".join([t.split()[0] for t in tokens])\n",
    "                sentence = \" \".join([t.split()[0] for t in tokens])\n",
    "                preds = [t.split()[-1] for t in tokens]\n",
    "                labels = [t.split()[-2] for t in tokens]\n",
    "                success = all([p==l for p,l in zip(preds,labels)])\n",
    "                ner_sents[model][key] = (sentence,preds,labels,success)\n",
    "                \n",
    "    return ner_sents\n",
    "\n",
    "def find_common_sents(ner_sents):\n",
    "    common_sents = []\n",
    "    models = list(ner_sents.keys())\n",
    "\n",
    "    for key in ner_sents[models[0]]:\n",
    "        if all([key in ner_sents[model] for model in models]):\n",
    "            common_sents.append(key)\n",
    "    return common_sents\n",
    "\n",
    "def find_tokenbased_difference(ner_sents,common_sents):\n",
    "    \"\"\"\n",
    "        Find the sentences for which subtoken succeeded and token failed\n",
    "    \"\"\"\n",
    "    token_diff_sents = []\n",
    "    models = list(ner_sents.keys())\n",
    "    for sent in common_sents:\n",
    "        if all([ner_sents[model][sent][-1]==False for model in [\"random_init\",\"word2vec\"]]) and ner_sents[\"fastext\"][sent][-1]==True and ner_sents[\"bert\"][sent][-1]==True:\n",
    "            token_diff_sents.append(sent)\n",
    "    return token_diff_sents\n",
    "\n",
    "def find_bert_difference(ner_sents, common_sents, reverse=False):\n",
    "    \"\"\"\n",
    "        Find the sentences for which subtoken succeeded and token failed\n",
    "    \"\"\"\n",
    "    bert_diff_sents = defaultdict(list)\n",
    "    models = list(ner_sents.keys())\n",
    "    for sent in common_sents:\n",
    "        for model in [\"random_init\",\"word2vec\",\"fastext\"]:\n",
    "            if ner_sents[model][sent][-1]==reverse and ner_sents[\"bert\"][sent][-1]!=reverse:\n",
    "                bert_diff_sents[model].append(sent)\n",
    "    return bert_diff_sents\n",
    "def print_subword_diff(diff_sents, ner_sents,models = [\"bert\",\"random_init\",\"word2vec\"]):\n",
    "    print(\"word\\t{}\\t{}\\t{}\\n\".format(*models))\n",
    "    for key in diff_sents:\n",
    "        sentence = ner_sents[\"bert\"][key][0]\n",
    "        for i,word in enumerate(sentence.split()) :\n",
    "            print(\"\\t\".join([word]+[ner_sents[model][key][1][i] for model in models])+\"\\n\")\n",
    "        print(\"\\n\")\n",
    "        \n",
    "def print_bert_diff(diff_sents, ner_sents,models = [\"bert\",\"fastext\",\"random_init\",\"word2vec\"]):\n",
    "    print(\"word\\t{}\\t{}\\t{}\\n\".format(*models))\n",
    "    for key in diff_sents:\n",
    "        sentence = ner_sents[\"bert\"][key][0]\n",
    "        for i,word in enumerate(sentence.split()) :\n",
    "            print(\"\\t\".join([word]+[ner_sents[model][key][1][i] for model in models])+\"\\n\")\n",
    "        print(\"\\n\")"
   ]
  },
  {
   "cell_type": "code",
   "execution_count": 654,
   "metadata": {
    "scrolled": true
   },
   "outputs": [
    {
     "name": "stdout",
     "output_type": "stream",
     "text": [
      "Czech\n",
      "BERT NER SENTS : 889\n",
      "random_init . Number of wrong entities : 659 Number of all entities : 2473 \n",
      "word2vec . Number of wrong entities : 691 Number of all entities : 2473 \n",
      "fastext . Number of wrong entities : 659 Number of all entities : 2473 \n",
      "random_init . Number of wrong entities : 659 Number of all entities : 2473 \n",
      "word2vec . Number of wrong entities : 691 Number of all entities : 2473 \n",
      "fastext . Number of wrong entities : 659 Number of all entities : 2473 \n",
      "154 failed examples of random_init for 889 sentences\n",
      "164 failed examples of word2vec for 889 sentences\n",
      "154 failed examples of fastext for 889 sentences\n",
      "Entity Lengths. Model : random_init Value : 5.615284974093265  Overall : 5.441631504922644\n",
      "Entity Lengths. Model : word2vec Value : 5.6419753086419755  Overall : 5.441631504922644\n",
      "Entity Lengths. Model : fastext Value : 5.756648936170213  Overall : 5.441631504922644\n",
      "Entity Lengths. Model : Overall Value : 5.441631504922644  Overall : 5.441631504922644\n",
      "Tag types. Model : random_init Value : 1.0378297660527627  Overall : 1.047918043621943\n",
      "Tag types. Model : word2vec Value : 1.0369331463300608  Overall : 1.047918043621943\n",
      "Tag types. Model : fastext Value : 1.0321622958931223  Overall : 1.047918043621943\n",
      "Tag types. Model : Overall Value : 1.047918043621943  Overall : 1.047918043621943\n",
      "Multiple tag frequency. Model : random_init Value : 0.03086112493777999  Overall : 0.038224278475435115\n",
      "Multiple tag frequency. Model : word2vec Value : 0.030388031790556335  Overall : 0.038224278475435115\n",
      "Multiple tag frequency. Model : fastext Value : 0.025729836714497772  Overall : 0.038224278475435115\n",
      "Multiple tag frequency. Model : Overall Value : 0.038224278475435115  Overall : 0.038224278475435115\n",
      "Sent Lengths. Model : random_init Value : 22.11038961038961  Overall : 22.487064116985376\n",
      "Sent Lengths. Model : word2vec Value : 22.335365853658537  Overall : 22.487064116985376\n",
      "Sent Lengths. Model : fastext Value : 22.136363636363637  Overall : 22.487064116985376\n",
      "Sent Lengths. Model : Overall Value : 22.487064116985376  Overall : 22.487064116985376\n",
      "Rare. Model : random_init Value : 0.7389984825493171  Overall : 0.7355438738374444\n",
      "Rare. Model : word2vec Value : 0.7380607814761215  Overall : 0.7355438738374444\n",
      "Rare. Model : fastext Value : 0.7511380880121397  Overall : 0.7355438738374444\n",
      "Unknown. Model : random_init  Value : 0.5508345978755691  Overall : 0.5503437120905782\n",
      "Unknown. Model : word2vec  Value : 0.552821997105644  Overall : 0.5503437120905782\n",
      "Unknown. Model : fastext  Value : 0.56752655538695  Overall : 0.5503437120905782\n",
      "Hungarian\n",
      "BERT NER SENTS : 933\n",
      "random_init . Number of wrong entities : 629 Number of all entities : 1161 \n",
      "word2vec . Number of wrong entities : 326 Number of all entities : 1161 \n",
      "fastext . Number of wrong entities : 504 Number of all entities : 1161 \n",
      "random_init . Number of wrong entities : 629 Number of all entities : 1161 \n",
      "word2vec . Number of wrong entities : 326 Number of all entities : 1161 \n",
      "fastext . Number of wrong entities : 504 Number of all entities : 1161 \n",
      "182 failed examples of random_init for 933 sentences\n",
      "95 failed examples of word2vec for 933 sentences\n",
      "136 failed examples of fastext for 933 sentences\n",
      "Entity Lengths. Model : random_init Value : 6.904403866809882  Overall : 6.813123561013047\n",
      "Entity Lengths. Model : word2vec Value : 6.873536299765808  Overall : 6.813123561013047\n",
      "Entity Lengths. Model : fastext Value : 6.958806818181818  Overall : 6.813123561013047\n",
      "Entity Lengths. Model : Overall Value : 6.813123561013047  Overall : 6.813123561013047\n",
      "Tag types. Model : random_init Value : 1.020675105485232  Overall : 1.0094772240904921\n",
      "Tag types. Model : word2vec Value : 1.009116409537167  Overall : 1.0094772240904921\n",
      "Tag types. Model : fastext Value : 1.0187207488299532  Overall : 1.0094772240904921\n",
      "Tag types. Model : Overall Value : 1.0094772240904921  Overall : 1.0094772240904921\n",
      "Multiple tag frequency. Model : random_init Value : 0.019409282700421943  Overall : 0.00840721491898502\n",
      "Multiple tag frequency. Model : word2vec Value : 0.0070126227208976155  Overall : 0.00840721491898502\n",
      "Multiple tag frequency. Model : fastext Value : 0.01768070722828913  Overall : 0.00840721491898502\n",
      "Multiple tag frequency. Model : Overall Value : 0.00840721491898502  Overall : 0.00840721491898502\n",
      "Sent Lengths. Model : random_init Value : 28.467032967032967  Overall : 24.118971061093248\n",
      "Sent Lengths. Model : word2vec Value : 27.589473684210525  Overall : 24.118971061093248\n",
      "Sent Lengths. Model : fastext Value : 28.63235294117647  Overall : 24.118971061093248\n",
      "Sent Lengths. Model : Overall Value : 24.118971061093248  Overall : 24.118971061093248\n",
      "Rare. Model : random_init Value : 0.6279809220985691  Overall : 0.5968992248062015\n",
      "Rare. Model : word2vec Value : 0.6533742331288344  Overall : 0.5968992248062015\n",
      "Rare. Model : fastext Value : 0.6448412698412699  Overall : 0.5968992248062015\n",
      "Unknown. Model : random_init  Value : 0.5007949125596184  Overall : 0.4108527131782946\n",
      "Unknown. Model : word2vec  Value : 0.5245398773006135  Overall : 0.4108527131782946\n",
      "Unknown. Model : fastext  Value : 0.5297619047619048  Overall : 0.4108527131782946\n",
      "Finnish\n",
      "BERT NER SENTS : 3506\n",
      "random_init . Number of wrong entities : 1544 Number of all entities : 3174 \n",
      "word2vec . Number of wrong entities : 1611 Number of all entities : 3174 \n",
      "fastext . Number of wrong entities : 1568 Number of all entities : 3174 \n",
      "random_init . Number of wrong entities : 1544 Number of all entities : 3174 \n",
      "word2vec . Number of wrong entities : 1611 Number of all entities : 3174 \n",
      "fastext . Number of wrong entities : 1568 Number of all entities : 3174 \n",
      "746 failed examples of random_init for 3506 sentences\n",
      "813 failed examples of word2vec for 3506 sentences\n",
      "760 failed examples of fastext for 3506 sentences\n",
      "Entity Lengths. Model : random_init Value : 7.890845070422535  Overall : 7.567557300240598\n",
      "Entity Lengths. Model : word2vec Value : 7.910773787486116  Overall : 7.567557300240598\n",
      "Entity Lengths. Model : fastext Value : 7.927322191993782  Overall : 7.567557300240598\n",
      "Entity Lengths. Model : Overall Value : 7.567557300240598  Overall : 7.567557300240598\n",
      "Tag types. Model : random_init Value : 1.0250823874038815  Overall : 1.0340995943324123\n",
      "Tag types. Model : word2vec Value : 1.0227272727272727  Overall : 1.0340995943324123\n",
      "Tag types. Model : fastext Value : 1.0222143237959838  Overall : 1.0340995943324123\n",
      "Tag types. Model : Overall Value : 1.0340995943324123  Overall : 1.0340995943324123\n",
      "Multiple tag frequency. Model : random_init Value : 0.023434639326254118  Overall : 0.028808277970486212\n",
      "Multiple tag frequency. Model : word2vec Value : 0.02138047138047138  Overall : 0.028808277970486212\n",
      "Multiple tag frequency. Model : fastext Value : 0.021325750844144304  Overall : 0.028808277970486212\n",
      "Multiple tag frequency. Model : Overall Value : 0.028808277970486212  Overall : 0.028808277970486212\n",
      "Sent Lengths. Model : random_init Value : 14.567024128686327  Overall : 13.410154021677124\n",
      "Sent Lengths. Model : word2vec Value : 14.640836408364084  Overall : 13.410154021677124\n",
      "Sent Lengths. Model : fastext Value : 14.726315789473684  Overall : 13.410154021677124\n",
      "Sent Lengths. Model : Overall Value : 13.410154021677124  Overall : 13.410154021677124\n",
      "Rare. Model : random_init Value : 0.6832901554404145  Overall : 0.7013232514177694\n",
      "Rare. Model : word2vec Value : 0.6840471756672873  Overall : 0.7013232514177694\n",
      "Rare. Model : fastext Value : 0.6894132653061225  Overall : 0.7013232514177694\n",
      "Unknown. Model : random_init  Value : 0.5518134715025906  Overall : 0.5519848771266541\n",
      "Unknown. Model : word2vec  Value : 0.5487274984481688  Overall : 0.5519848771266541\n",
      "Unknown. Model : fastext  Value : 0.5605867346938775  Overall : 0.5519848771266541\n",
      "Turkish\n",
      "BERT NER SENTS : 2729\n",
      "random_init . Number of wrong entities : 638 Number of all entities : 1667 \n",
      "word2vec . Number of wrong entities : 652 Number of all entities : 1667 \n",
      "fastext . Number of wrong entities : 611 Number of all entities : 1667 \n",
      "random_init . Number of wrong entities : 638 Number of all entities : 1667 \n",
      "word2vec . Number of wrong entities : 652 Number of all entities : 1667 \n",
      "fastext . Number of wrong entities : 611 Number of all entities : 1667 \n",
      "385 failed examples of random_init for 2729 sentences\n",
      "274 failed examples of word2vec for 2729 sentences\n",
      "254 failed examples of fastext for 2729 sentences\n",
      "Entity Lengths. Model : random_init Value : 7.1618122977346275  Overall : 6.905430463576159\n",
      "Entity Lengths. Model : word2vec Value : 7.309070548712206  Overall : 6.905430463576159\n",
      "Entity Lengths. Model : fastext Value : 7.207776427703524  Overall : 6.905430463576159\n",
      "Entity Lengths. Model : Overall Value : 6.905430463576159  Overall : 6.905430463576159\n",
      "Tag types. Model : random_init Value : 1.0144564915207117  Overall : 1.014398793818319\n",
      "Tag types. Model : word2vec Value : 1.0137130801687764  Overall : 1.014398793818319\n",
      "Tag types. Model : fastext Value : 1.0128865979381443  Overall : 1.014398793818319\n",
      "Tag types. Model : Overall Value : 1.014398793818319  Overall : 1.014398793818319\n",
      "Multiple tag frequency. Model : random_init Value : 0.013622463163747567  Overall : 0.013192612137203167\n",
      "Multiple tag frequency. Model : word2vec Value : 0.013361462728551337  Overall : 0.013192612137203167\n",
      "Multiple tag frequency. Model : fastext Value : 0.012518409425625921  Overall : 0.013192612137203167\n",
      "Multiple tag frequency. Model : Overall Value : 0.013192612137203167  Overall : 0.013192612137203167\n",
      "Sent Lengths. Model : random_init Value : 17.02077922077922  Overall : 13.162330524001465\n",
      "Sent Lengths. Model : word2vec Value : 17.78832116788321  Overall : 13.162330524001465\n",
      "Sent Lengths. Model : fastext Value : 18.216535433070867  Overall : 13.162330524001465\n",
      "Sent Lengths. Model : Overall Value : 13.162330524001465  Overall : 13.162330524001465\n",
      "Rare. Model : random_init Value : 0.5141065830721003  Overall : 0.525494901019796\n",
      "Rare. Model : word2vec Value : 0.5567484662576687  Overall : 0.525494901019796\n",
      "Rare. Model : fastext Value : 0.563011456628478  Overall : 0.525494901019796\n",
      "Unknown. Model : random_init  Value : 0.3793103448275862  Overall : 0.36892621475704857\n",
      "Unknown. Model : word2vec  Value : 0.4447852760736196  Overall : 0.36892621475704857\n",
      "Unknown. Model : fastext  Value : 0.4533551554828151  Overall : 0.36892621475704857\n"
     ]
    }
   ],
   "source": [
    "model_list = [\"bert\",\"random_init\",\"word2vec\",\"fastext\"]\n",
    "unknowns = defaultdict(list)\n",
    "rares =  defaultdict(list)\n",
    "lengths = defaultdict(list)\n",
    "all_sent_lengths = defaultdict(list)\n",
    "all_multiple_tag_freqs = defaultdict(list)\n",
    "all_tag_types = defaultdict(list)\n",
    "sent_count = defaultdict(list)\n",
    "ent_counts = defaultdict(list)\n",
    "models = [\"random_init\",\"word2vec\",\"fastext\",\"Overall\"]\n",
    "for lang in [\"cs\",\"hu\",\"fi\",\"tr\"]:\n",
    "    print(l2L[lang])\n",
    "    ner_sents = get_ner_sentences(model_list, lang)\n",
    "    common_sents = find_common_sents(ner_sents)\n",
    "    subword_diff_sents = find_tokenbased_difference(ner_sents,common_sents)\n",
    "    bert_diff_sents = find_bert_difference(ner_sents,common_sents,reverse=False)\n",
    "    print(\"BERT NER SENTS : {}\".format(len(ner_sents[\"bert\"])))\n",
    "    all_unknown_freq, wrong_unknown_freq, entity_count = rare_analysis(bert_diff_sents, ner_sents,lang, rare_count = 0)\n",
    "    all_rare_freq, wrong_rare_freq, _ = rare_analysis(bert_diff_sents, ner_sents,lang, rare_count = 2)\n",
    "    entity_aver_lengths,sent_lengths = length_analysis(bert_diff_sents, ner_sents)\n",
    "    tag_types, multiple_tag_freqs = different_tag_analysis(bert_diff_sents, ner_sents)\n",
    "    for k,y in bert_diff_sents.items(): \n",
    "        print(\"{} failed examples of {} for {} sentences\".format(len(y),k,len(common_sents)))\n",
    "    for m in models[:-1]:\n",
    "        sent_count[m].append(len(bert_diff_sents[m]))\n",
    "    sent_count[\"Overall\"].append(len(ner_sents[\"bert\"]))\n",
    "    for m in models:\n",
    "        ent_counts[m].append(entity_count[m])\n",
    "\n",
    "    \n",
    "    for x,val in entity_aver_lengths.items():\n",
    "        print(\"Entity Lengths. Model : {} Value : {}  Overall : {}\".format(x,val,entity_aver_lengths[\"Overall\"]))\n",
    "        lengths[x].append(val)\n",
    "    for x,val in tag_types.items():\n",
    "        print(\"Tag types. Model : {} Value : {}  Overall : {}\".format(x,val,tag_types[\"Overall\"]))\n",
    "        all_tag_types[x].append(val)   \n",
    "    for x,val in multiple_tag_freqs.items():\n",
    "        print(\"Multiple tag frequency. Model : {} Value : {}  Overall : {}\".format(x,val,multiple_tag_freqs[\"Overall\"]))\n",
    "        all_multiple_tag_freqs[x].append(val)\n",
    "    for x,val in sent_lengths.items():\n",
    "        print(\"Sent Lengths. Model : {} Value : {}  Overall : {}\".format(x,val,sent_lengths[\"Overall\"]))\n",
    "        all_sent_lengths[x].append(val)\n",
    "    for x in all_rare_freq :\n",
    "        print(\"Rare. Model : {} Value : {}  Overall : {}\".format(x,wrong_rare_freq[x],all_rare_freq[x]))\n",
    "        val = wrong_rare_freq[x]\n",
    "        overall = all_rare_freq[x]\n",
    "        rares[x].append(val)\n",
    "    rares[\"Overall\"].append(overall)\n",
    "    for x in all_unknown_freq :\n",
    "        val = wrong_unknown_freq[x]\n",
    "        overall = all_unknown_freq[x]\n",
    "        print(\"Unknown. Model : {}  Value : {}  Overall : {}\".format(x,wrong_unknown_freq[x],all_unknown_freq[x]))\n",
    "        unknowns[x].append(val)\n",
    "    unknowns[\"Overall\"].append(overall)\n",
    "\n"
   ]
  },
  {
   "cell_type": "code",
   "execution_count": 647,
   "metadata": {},
   "outputs": [
    {
     "name": "stdout",
     "output_type": "stream",
     "text": [
      "77&80&69&2473&26&50&50&1161&284&217&254&3174&168&175&240&1667\n"
     ]
    }
   ],
   "source": [
    "print_row = lambda x : print(\"&\".join([\"&\".join([str(round(x[m][i],3)) for m in models]) for i,lang in enumerate(langs)]))\n",
    "\n",
    "\n",
    "\n",
    "\n",
    "print_row(ent_counts)\n",
    "\n",
    "\n",
    "\n"
   ]
  },
  {
   "cell_type": "code",
   "execution_count": 641,
   "metadata": {},
   "outputs": [
    {
     "name": "stdout",
     "output_type": "stream",
     "text": [
      "26&27&25&889&10&13&14&933&144&115&139&3506&79&85&95&2729\n"
     ]
    }
   ],
   "source": [
    "print(\"&\".join([\"&\".join([str(round(sent_count[m][i],3)) for m in models]) for i,lang in enumerate(langs)]))"
   ]
  },
  {
   "cell_type": "code",
   "execution_count": 655,
   "metadata": {},
   "outputs": [
    {
     "name": "stdout",
     "output_type": "stream",
     "text": [
      "0.551&0.553&0.568&0.55&0.501&0.525&0.53&0.411&0.552&0.549&0.561&0.552&0.379&0.445&0.453&0.369\n"
     ]
    }
   ],
   "source": [
    "print_row(unknowns)"
   ]
  },
  {
   "cell_type": "code",
   "execution_count": 649,
   "metadata": {},
   "outputs": [
    {
     "name": "stdout",
     "output_type": "stream",
     "text": [
      "0.636&0.625&0.667&0.736&0.423&0.58&0.5&0.597&0.433&0.424&0.409&0.701&0.423&0.429&0.45&0.525\n"
     ]
    }
   ],
   "source": [
    "print_row(rares)"
   ]
  },
  {
   "cell_type": "code",
   "execution_count": 651,
   "metadata": {},
   "outputs": [
    {
     "name": "stdout",
     "output_type": "stream",
     "text": [
      "24.423&24.926&23.76&22.487&29.5&31.385&27.571&24.119&13.896&13.209&13.223&13.41&17.608&16.518&18.6&13.162\n"
     ]
    }
   ],
   "source": [
    "print_row(all_sent_lengths)"
   ]
  },
  {
   "cell_type": "code",
   "execution_count": 652,
   "metadata": {},
   "outputs": [
    {
     "name": "stdout",
     "output_type": "stream",
     "text": [
      "5.074&5.284&5.2&5.442&5.586&6.661&7.259&6.813&7.729&7.845&7.693&7.568&6.972&6.556&6.694&6.905\n"
     ]
    }
   ],
   "source": [
    "print_row(lengths)"
   ]
  },
  {
   "cell_type": "code",
   "execution_count": null,
   "metadata": {},
   "outputs": [],
   "source": []
  },
  {
   "cell_type": "code",
   "execution_count": null,
   "metadata": {},
   "outputs": [],
   "source": []
  },
  {
   "cell_type": "code",
   "execution_count": null,
   "metadata": {},
   "outputs": [],
   "source": []
  },
  {
   "cell_type": "code",
   "execution_count": 627,
   "metadata": {},
   "outputs": [
    {
     "name": "stdout",
     "output_type": "stream",
     "text": [
      "Language : tr\n",
      "Unk\n",
      "0.304&0.309&0.312&0.369\n",
      "Rare\n",
      "0.423&0.429&0.45&0.525\n",
      "Token lengths \n",
      "6.972&6.556&6.694&6.905\n",
      "Sentence lengths \n",
      "17.608&16.518&18.6&13.162\n",
      "Language : cs\n",
      "Unk\n",
      "0.519&0.412&0.507&0.55\n",
      "Rare\n",
      "0.636&0.625&0.667&0.736\n",
      "Token lengths \n",
      "5.074&5.284&5.2&5.442\n",
      "Sentence lengths \n",
      "24.423&24.926&23.76&22.487\n",
      "Language : fi\n",
      "Unk\n",
      "0.352&0.341&0.319&0.552\n",
      "Rare\n",
      "0.433&0.424&0.409&0.701\n",
      "Token lengths \n",
      "7.729&7.845&7.693&7.568\n",
      "Sentence lengths \n",
      "13.896&13.209&13.223&13.41\n",
      "Language : hu\n",
      "Unk\n",
      "0.346&0.4&0.34&0.411\n",
      "Rare\n",
      "0.423&0.58&0.5&0.597\n",
      "Token lengths \n",
      "5.586&6.661&7.259&6.813\n",
      "Sentence lengths \n",
      "29.5&31.385&27.571&24.119\n"
     ]
    }
   ],
   "source": [
    "for i,lang in enumerate(langs):\n",
    "    print(\"Language : {}\".format(lang))\n",
    "    keys = [\"random_init\",\"word2vec\",'fastext','Overall']\n",
    "    print(\"Unk\")\n",
    "    print(\"&\".join([str(round(unknowns[m][i],3)) for m in keys]))\n",
    "    print(\"Rare\")\n",
    "    print(\"&\".join([str(round(rares[m][i],3)) for m in keys]))\n",
    "    print(\"Token lengths \")\n",
    "    print(\"&\".join([str(round(lengths[m][i],3)) for m in keys]))\n",
    "    print(\"Sentence lengths \")\n",
    "    print(\"&\".join([str(round(all_sent_lengths[m][i],3)) for m in keys]))"
   ]
  },
  {
   "cell_type": "code",
   "execution_count": null,
   "metadata": {},
   "outputs": [],
   "source": []
  },
  {
   "cell_type": "code",
   "execution_count": null,
   "metadata": {},
   "outputs": [],
   "source": []
  },
  {
   "cell_type": "code",
   "execution_count": 553,
   "metadata": {},
   "outputs": [
    {
     "data": {
      "text/plain": [
       "defaultdict(list,\n",
       "            {'random_init': [0.3793103448275862,\n",
       "              0.5508345978755691,\n",
       "              0.5518134715025906,\n",
       "              0.5007949125596184],\n",
       "             'word2vec': [0.4447852760736196,\n",
       "              0.552821997105644,\n",
       "              0.5487274984481688,\n",
       "              0.5245398773006135],\n",
       "             'fastext': [0.4533551554828151,\n",
       "              0.56752655538695,\n",
       "              0.5605867346938775,\n",
       "              0.5297619047619048],\n",
       "             'Overall': [0.36892621475704857,\n",
       "              0.5503437120905782,\n",
       "              0.5519848771266541,\n",
       "              0.4108527131782946]})"
      ]
     },
     "execution_count": 553,
     "metadata": {},
     "output_type": "execute_result"
    }
   ],
   "source": [
    "length_analysis()"
   ]
  },
  {
   "cell_type": "code",
   "execution_count": null,
   "metadata": {},
   "outputs": [],
   "source": []
  },
  {
   "cell_type": "code",
   "execution_count": 558,
   "metadata": {},
   "outputs": [],
   "source": [
    "def modelwise_analysis_plotter(modelwise_data, y_label, save_name, label=True):\n",
    "    models = [] \n",
    "    l = len(modelwise_data)\n",
    "    width = 1.5\n",
    "    bar_width = 0.25\n",
    "    X = np.linspace(0,l*width,l)\n",
    "    fig, ax = plt.subplots()\n",
    "    for i, model in enumerate(modelwise_data.keys()):\n",
    "        data = modelwise_data[model]\n",
    "        x = X -((l-1)*bar_width)/2+i*bar_width \n",
    "        ax.bar(x, data, width = bar_width,label=model[0].upper() + model[1:] if model!=\"random_init\" else \"Baseline\")\n",
    "    ax.set_xticks(X)\n",
    "    ax.set_ylabel(y_label)\n",
    "    ax.set_xticklabels([l2L[l] for l in langs])\n",
    "    if label: \n",
    "        ax.legend(loc=4)\n",
    "    plt.tight_layout()\n",
    "    fig.savefig(save_name)\n",
    "    plt.show()"
   ]
  },
  {
   "cell_type": "code",
   "execution_count": 559,
   "metadata": {},
   "outputs": [
    {
     "data": {
      "image/png": "[encoded data removed]",
      "text/plain": [
       "<Figure size 432x288 with 1 Axes>"
      ]
     },
     "metadata": {
      "needs_background": "light"
     },
     "output_type": "display_data"
    }
   ],
   "source": [
    "modelwise_analysis_plotter(unknowns,\"Unknown word frequency\",\"unk\",label=True)"
   ]
  },
  {
   "cell_type": "code",
   "execution_count": 561,
   "metadata": {},
   "outputs": [
    {
     "data": {
      "image/png": "[encoded data removed]",
      "text/plain": [
       "<Figure size 432x288 with 1 Axes>"
      ]
     },
     "metadata": {
      "needs_background": "light"
     },
     "output_type": "display_data"
    }
   ],
   "source": [
    "modelwise_analysis_plotter(rares,\"Rare word frequency\",\"unk\",label=True)"
   ]
  },
  {
   "cell_type": "code",
   "execution_count": null,
   "metadata": {},
   "outputs": [],
   "source": []
  },
  {
   "cell_type": "code",
   "execution_count": 629,
   "metadata": {},
   "outputs": [],
   "source": [
    "def rare_analysis(diff_sents, ner_sents, lang, rare_count = 5):\n",
    "    \"\"\"\n",
    "        Frequency of tokens for which at least one token-based model failed to find the correct value.\n",
    "    \"\"\"\n",
    "    avg_all_entities = defaultdict(int)\n",
    "    avg_wrong_entities = defaultdict(int)\n",
    "    entity_count = defaultdict(int)\n",
    "    all_entities = set()\n",
    "    for sent in ner_sents[\"bert\"]:\n",
    "        sentence = ner_sents[\"bert\"][sent][0].split()\n",
    "        labels = ner_sents[\"bert\"][sent][1]\n",
    "        for word,label in zip(sentence,labels):\n",
    "            if label !=\"O\":\n",
    "                all_entities.add(word.lower())\n",
    "    for model,sents in diff_sents.items():\n",
    "        wrong_entities = set()\n",
    "        for sent in sents:\n",
    "            for i, label in enumerate(ner_sents[\"bert\"][sent][1]):\n",
    "                word = ner_sents[\"bert\"][sent][0].split()[i]\n",
    "                if label != \"O\":\n",
    "                    wrong_entities.add(word.lower())\n",
    "        \n",
    "        print(\"{} . Number of wrong entities : {} Number of all entities : {} \".format(model, len(wrong_entities),len(all_entities)))\n",
    "        average_occurrence_all_entities = sum([1 if counts[lang][word] <= rare_count else 0 for word in all_entities])/len(all_entities)\n",
    "        average_occurrence_wrong_entities = sum([1 if counts[lang][word] <= rare_count else 0 for word in wrong_entities])/len(wrong_entities)\n",
    "        avg_all_entities[model] = average_occurrence_all_entities\n",
    "        avg_wrong_entities[model] = average_occurrence_wrong_entities\n",
    "        entity_count[model] = len(wrong_entities)\n",
    "    entity_count[\"Overall\"] = len(all_entities)\n",
    "    return avg_all_entities, avg_wrong_entities, entity_count\n",
    "\n",
    "\n"
   ]
  },
  {
   "cell_type": "code",
   "execution_count": 169,
   "metadata": {},
   "outputs": [],
   "source": [
    "def suffix_analysis(suff, diff_sents, ner_sents, models1=[\"bert\",\"fastext\"], models2=[\"random_init\",\"word2vec\"]):\n",
    "    \"\"\"\n",
    "        Count the number of tokens for which at least one token-based model failed to find the correct value.\n",
    "    \"\"\"\n",
    "    wrong_count = 0\n",
    "    suff_wrong_count = 0\n",
    "    for sent in diff_sents:\n",
    "        for i, label in enumerate(ner_sents[\"bert\"][sent][1]):\n",
    "            word = ner_sents[\"bert\"][sent][0].split()[i]\n",
    "            if label != \"O\" and any([ner_sents[model][sent][1][i]!=label for model in models2]):\n",
    "                wrong_count += 1\n",
    "                if suff in word:\n",
    "                    suff_wrong_count += 1\n",
    "    total_ents = 0\n",
    "    total_suff = 0\n",
    "    for sent in ner_sents[\"bert\"]:\n",
    "        sentence = ner_sents[\"bert\"][sent][0].split()\n",
    "        labels = ner_sents[\"bert\"][sent][1]\n",
    "        for word,label in zip(sentence,labels):\n",
    "            if label !=\"O\":\n",
    "                total_ents += 1\n",
    "                if suff in word :\n",
    "                    total_suff += 1\n",
    "    return suff_wrong_count, wrong_count,total_suff, total_ents"
   ]
  },
  {
   "cell_type": "markdown",
   "metadata": {},
   "source": [
    "## Suffix Analysis\n",
    "\n",
    "We check the sentences for which all models except bert failed.\n",
    "\n",
    "Observation : \n",
    "\n",
    "- We observed that many of the wrong predictions contained apostrophe (with at least one suffix)\n",
    "- The ratio of  entity-with-suffix / entities  is much higher among the wrong predictions of the token-based systems"
   ]
  },
  {
   "cell_type": "code",
   "execution_count": 170,
   "metadata": {},
   "outputs": [],
   "source": [
    "suff_wrong_count, wrong_count,total_suff, total_ents = suffix_analysis(\"'\",bert_diff_sents,ner_sents)"
   ]
  },
  {
   "cell_type": "code",
   "execution_count": 171,
   "metadata": {
    "scrolled": true
   },
   "outputs": [
    {
     "data": {
      "text/plain": [
       "(140, 247, 1162, 3775)"
      ]
     },
     "execution_count": 171,
     "metadata": {},
     "output_type": "execute_result"
    }
   ],
   "source": [
    "suff_wrong_count, wrong_count, total_suff, total_ents"
   ]
  },
  {
   "cell_type": "code",
   "execution_count": 579,
   "metadata": {},
   "outputs": [],
   "source": [
    "def length_analysis(diff_sents, ner_sents):\n",
    "    \"\"\"\n",
    "        Length of tokens for which at least one token-based model failed to find the correct value.\n",
    "    \"\"\"\n",
    "    all_lengths = []\n",
    "    entity_aver_lengths = defaultdict(int)\n",
    "    sent_lengths = defaultdict(int)\n",
    "    for sent in ner_sents[\"bert\"]:\n",
    "        sentence = ner_sents[\"bert\"][sent][0].split()\n",
    "        labels = ner_sents[\"bert\"][sent][1]\n",
    "        for word,label in zip(sentence,labels):\n",
    "            if label !=\"O\":\n",
    "                all_lengths.append(len(word))\n",
    "    all_aver = sum(all_lengths)/len(all_lengths)\n",
    "    for model,sents in diff_sents.items():\n",
    "        wrong_lengths = []\n",
    "        for sent in sents:\n",
    "            for i, label in enumerate(ner_sents[\"bert\"][sent][1]):\n",
    "                word = ner_sents[\"bert\"][sent][0].split()[i]\n",
    "                if label != \"O\" :\n",
    "                    wrong_lengths.append(len(word))\n",
    "        sent_lengths[model] = sum([len(ner_sents[\"bert\"][x][0].split()) for x in sents])/len(sents)\n",
    "        wrong_aver = sum(wrong_lengths)/len(wrong_lengths)\n",
    "        entity_aver_lengths[model] = wrong_aver\n",
    "    entity_aver_lengths[\"Overall\"] = all_aver\n",
    "    sent_lengths[\"Overall\"] = sum([len(ner_sents[\"bert\"][sent][0].split()) for sent in ner_sents[\"bert\"]])/len(ner_sents[\"bert\"])\n",
    "    return entity_aver_lengths, sent_lengths"
   ]
  },
  {
   "cell_type": "markdown",
   "metadata": {},
   "source": [
    "## Length of Words Analysis\n",
    "\n",
    "We compare the length of wrong predictions with all entities\n",
    "\n",
    "Observation :  Average of all tokens is a lot smaller than long words !  \n"
   ]
  },
  {
   "cell_type": "code",
   "execution_count": 173,
   "metadata": {},
   "outputs": [
    {
     "data": {
      "text/plain": [
       "(8.178137651821862, 6.905430463576159)"
      ]
     },
     "execution_count": 173,
     "metadata": {},
     "output_type": "execute_result"
    }
   ],
   "source": [
    "wrong_aver, all_aver = length_analysis(bert_diff_sents, ner_sents)\n",
    "wrong_aver, all_aver"
   ]
  },
  {
   "cell_type": "code",
   "execution_count": 601,
   "metadata": {},
   "outputs": [],
   "source": [
    "def frequency_analysis(diff_sents, ner_sents,lang):\n",
    "    \"\"\"\n",
    "        Frequency of tokens for which at least one token-based model failed to find the correct value.\n",
    "    \"\"\"\n",
    "    avg_all_entities = defaultdict(int)\n",
    "    avg_wrong_entities = defaultdict(int)\n",
    "\n",
    "    for model,sents in diff_sents.items():\n",
    "        wrong_entities = set()\n",
    "        all_entities = set()\n",
    "        for sent in sents:\n",
    "            for i, label in enumerate(ner_sents[\"bert\"][sent][1]):\n",
    "                word = ner_sents[\"bert\"][sent][0].split()[i]\n",
    "                if label != \"O\":\n",
    "                    wrong_entities.add(word)\n",
    "        for sent in ner_sents[\"bert\"]:\n",
    "            sentence = ner_sents[\"bert\"][sent][0].split()\n",
    "            labels = ner_sents[\"bert\"][sent][1]\n",
    "            for word,label in zip(sentence,labels):\n",
    "                if label !=\"O\":\n",
    "                    all_entities.add(word)\n",
    "        average_occurrence_all_entities = sum([counts[lang][word]for word in all_entities])/len(all_entities)\n",
    "        average_occurrence_wrong_entities = sum([counts[lang][word]for word in wrong_entities])/len(wrong_entities)\n",
    "        avg_all_entities[model] = average_occurrence_all_entities\n",
    "        avg_wrong_entities[model] = average_occurrence_wrong_entities\n",
    "    return avg_all_entities, avg_wrong_entities\n",
    "\n",
    "\n"
   ]
  },
  {
   "cell_type": "markdown",
   "metadata": {},
   "source": [
    "## # of Occurrence Analysis\n",
    "\n",
    "We compare the length of wrong predictions with all entities\n",
    "\n",
    "Observation :  Frequency of wrong predictions\n"
   ]
  },
  {
   "cell_type": "code",
   "execution_count": 353,
   "metadata": {},
   "outputs": [
    {
     "ename": "TypeError",
     "evalue": "frequency_analysis() missing 1 required positional argument: 'lang'",
     "output_type": "error",
     "traceback": [
      "\u001b[0;31m---------------------------------------------------------------------------\u001b[0m",
      "\u001b[0;31mTypeError\u001b[0m                                 Traceback (most recent call last)",
      "\u001b[0;32m<ipython-input-353-d394fe64e099>\u001b[0m in \u001b[0;36m<module>\u001b[0;34m\u001b[0m\n\u001b[0;32m----> 1\u001b[0;31m \u001b[0maverage_occurrence_all_entities\u001b[0m\u001b[0;34m,\u001b[0m \u001b[0maverage_occurrence_wrong_entities\u001b[0m \u001b[0;34m=\u001b[0m \u001b[0mfrequency_analysis\u001b[0m\u001b[0;34m(\u001b[0m\u001b[0mbert_diff_sents\u001b[0m\u001b[0;34m,\u001b[0m \u001b[0mner_sents\u001b[0m\u001b[0;34m)\u001b[0m\u001b[0;34m\u001b[0m\u001b[0;34m\u001b[0m\u001b[0m\n\u001b[0m",
      "\u001b[0;31mTypeError\u001b[0m: frequency_analysis() missing 1 required positional argument: 'lang'"
     ]
    }
   ],
   "source": [
    "average_occurrence_all_entities, average_occurrence_wrong_entities = frequency_analysis(bert_diff_sents, ner_sents)"
   ]
  },
  {
   "cell_type": "code",
   "execution_count": 166,
   "metadata": {},
   "outputs": [
    {
     "data": {
      "text/plain": [
       "(2.212778429073857, 2.1745283018867925)"
      ]
     },
     "execution_count": 166,
     "metadata": {},
     "output_type": "execute_result"
    }
   ],
   "source": [
    "average_occurrence_all_entities, average_occurrence_wrong_entities"
   ]
  },
  {
   "cell_type": "code",
   "execution_count": 599,
   "metadata": {},
   "outputs": [],
   "source": [
    "def different_tag_analysis(diff_sents, ner_sents):\n",
    "    \"\"\"\n",
    "        Length of tokens for which at least one token-based model failed to find the correct value.\n",
    "    \"\"\"\n",
    "    all_tag_types = defaultdict(set)\n",
    "    wrong_tag_types = {}\n",
    "    multiple_tag_freqs = {}\n",
    "    for model,sents in diff_sents.items():\n",
    "        wrong_tags = defaultdict(set)\n",
    "        for sent in sents : \n",
    "            for i, label in enumerate(ner_sents[\"bert\"][sent][1]):\n",
    "                word = ner_sents[\"bert\"][sent][0].split()[i]\n",
    "                wrong_tags[word.lower()].add(label)\n",
    "        wrong_tags_new = []\n",
    "        for k,v in wrong_tags.items():\n",
    "            if len(v)>1 or list(v)[0]!=\"0\":\n",
    "                wrong_tags_new.append(len(v))\n",
    "        wrong_tag_types[model] = sum(wrong_tags_new)/len(wrong_tags_new)\n",
    "        multiple_tag_freqs[model] = sum([1 if w>1 else 0 for w in wrong_tags_new])/len(wrong_tags_new)\n",
    "    for sent in ner_sents[\"bert\"]:\n",
    "        sentence = ner_sents[\"bert\"][sent][0].split()\n",
    "        labels = ner_sents[\"bert\"][sent][1]\n",
    "        for word,label in zip(sentence,labels):\n",
    "            all_tag_types[word].add(label)\n",
    "    all_entities_new = []\n",
    "    for k,v in all_tag_types.items():\n",
    "        if len(v)>1 or list(v)[0]!=\"0\":\n",
    "            all_entities_new.append(len(v))\n",
    "    multiple_tag_freqs[\"Overall\"] = sum([1 if w>1 else 0 for w in all_entities_new])/len(all_entities_new)\n",
    "    wrong_tag_types[\"Overall\"] = sum(all_entities_new)/len(all_entities_new)\n",
    "    return wrong_tag_types, multiple_tag_freqs"
   ]
  },
  {
   "cell_type": "markdown",
   "metadata": {},
   "source": [
    "## # of Tags Analysis\n",
    "\n",
    "We compare the number of different tags for each entity\n",
    "\n",
    "Observation :  BERT performed better on entities with more labels\n"
   ]
  },
  {
   "cell_type": "code",
   "execution_count": 183,
   "metadata": {},
   "outputs": [
    {
     "data": {
      "text/plain": [
       "(1.0287221570926144, 1.0636363636363637)"
      ]
     },
     "execution_count": 183,
     "metadata": {},
     "output_type": "execute_result"
    }
   ],
   "source": [
    "aver_tag_type, aver_wrong_tag_type = different_tag_analysis(bert_diff_sents, ner_sents)\n",
    "aver_tag_type, aver_wrong_tag_type "
   ]
  },
  {
   "cell_type": "code",
   "execution_count": 322,
   "metadata": {},
   "outputs": [],
   "source": []
  },
  {
   "cell_type": "code",
   "execution_count": 330,
   "metadata": {},
   "outputs": [
    {
     "data": {
      "text/plain": [
       "[25513, 7142, 15427, 7688]"
      ]
     },
     "execution_count": 330,
     "metadata": {},
     "output_type": "execute_result"
    }
   ],
   "source": [
    "list(map(lambda x : len(x[1]),datasets.items()))"
   ]
  },
  {
   "cell_type": "code",
   "execution_count": 229,
   "metadata": {},
   "outputs": [],
   "source": [
    "def sentence_length_analysis(diff_sents, ner_sents, models1=[\"bert\",\"fastext\"],models2=[\"random_init\",\"word2vec\"]):\n",
    "    \"\"\"\n",
    "        Length of tokens for which at least one token-based model failed to find the correct value.\n",
    "    \"\"\"\n",
    "    wrong_lengths = []\n",
    "    all_lengths = []\n",
    "    for sent in diff_sents:\n",
    "        sentence = ner_sents[\"bert\"][sent][0].split()\n",
    "        wrong_lengths.append(len(sentence))\n",
    "    for sent in ner_sents[\"bert\"]:\n",
    "        sentence = ner_sents[\"bert\"][sent][0].split()\n",
    "        all_lengths.append(len(sentence))\n",
    "    wrong_length = sum(wrong_lengths)/len(wrong_lengths)\n",
    "    all_length = sum(all_lengths)/len(all_lengths)\n",
    "    return wrong_length, all_length"
   ]
  },
  {
   "cell_type": "code",
   "execution_count": 232,
   "metadata": {},
   "outputs": [],
   "source": [
    "def is_title_analysis(diff_sents, ner_sents, models1=[\"bert\",\"fastext\"],models2=[\"random_init\",\"word2vec\"]):\n",
    "    \"\"\"\n",
    "        Length of tokens for which at least one token-based model failed to find the correct value.\n",
    "    \"\"\"\n",
    "    wrong_entities = set()\n",
    "    all_entities = defaultdict(int)\n",
    "    for sent in diff_sents:\n",
    "        for i, label in enumerate(ner_sents[\"bert\"][sent][1]):\n",
    "            word = ner_sents[\"bert\"][sent][0].split()[i]\n",
    "            if label != \"O\" and any([ner_sents[model][sent][1][i]!=label for model in models2]):\n",
    "                wrong_entities.add(word)\n",
    "    for sent in ner_sents[\"bert\"]:\n",
    "        sentence = ner_sents[\"bert\"][sent][0].split()\n",
    "        labels = ner_sents[\"bert\"][sent][1]\n",
    "        for word,label in zip(sentence,labels):\n",
    "            if label !=\"O\":\n",
    "                all_entities[word] = 1 if word[0].istitle() or word.isupper() else 0\n",
    "    aver_caps_frequency = sum([v for v in all_entities.values()])/len(all_entities)\n",
    "    aver_wrong_caps_frequency = sum([all_entities[wrong] for wrong in wrong_entities])/len(wrong_entities)\n",
    "#     for wrong in wrong_entities: \n",
    "#         print(wrong, all_entities[wrong])\n",
    "    return aver_caps_frequency, aver_wrong_caps_frequency"
   ]
  },
  {
   "cell_type": "code",
   "execution_count": null,
   "metadata": {},
   "outputs": [],
   "source": []
  },
  {
   "cell_type": "code",
   "execution_count": 362,
   "metadata": {
    "scrolled": true
   },
   "outputs": [
    {
     "name": "stdout",
     "output_type": "stream",
     "text": [
      "Lang tr\n",
      "151 unique bert corrects for 2729 sentences\n",
      "34 unique subword corrects for 2729 sentences\n",
      "Number of wrong entities 212 Number of all entities 1706 \n",
      "\n",
      "Apostrophe analysis\n",
      "Frequency of entities with apostrophe. All entities : 0.30781456953642383   Wrongs : 0.5668016194331984\n",
      " \n",
      "Length analysis\n",
      "Average length of entities. All entities : 6.905430463576159   Wrongs : 8.178137651821862 \n",
      "\n",
      "# of occurrence analysis\n",
      "Average occurence of entities. All entities : 10.762602579132473   Wrongs : 7.061320754716981 \n",
      "\n",
      "Tag type analysis\n",
      "Average number of tags. All entities : 1.0287221570926144   Wrongs : 1.0613207547169812\n",
      " \n",
      "Caps analysis\n",
      "Average number of entities with capitalization. All entities : 0.9923798358733881   Wrongs : 1.0\n",
      " \n",
      "Sentence length analysis\n",
      "Average length of sentences. All sentences : 13.162330524001465   Wrongs : 18.344370860927153\n",
      " \n",
      "Lang cs\n",
      "124 unique bert corrects for 889 sentences\n",
      "13 unique subword corrects for 889 sentences\n",
      "Number of wrong entities 317 Number of all entities 2540 \n",
      "\n",
      "Apostrophe analysis\n",
      "Frequency of entities with apostrophe. All entities : 0.001969057665260197   Wrongs : 0.0\n",
      " \n",
      "Length analysis\n",
      "Average length of entities. All entities : 5.441631504922644   Wrongs : 6.099125364431487 \n",
      "\n",
      "# of occurrence analysis\n",
      "Average occurence of entities. All entities : 3.7984251968503937   Wrongs : 1.8769716088328077 \n",
      "\n",
      "Tag type analysis\n",
      "Average number of tags. All entities : 1.0720472440944881   Wrongs : 1.1009463722397477\n",
      " \n",
      "Caps analysis\n",
      "Average number of entities with capitalization. All entities : 0.7043307086614173   Wrongs : 0.7949526813880127\n",
      " \n",
      "Sentence length analysis\n",
      "Average length of sentences. All sentences : 22.487064116985376   Wrongs : 23.362903225806452\n",
      " \n",
      "Lang fi\n",
      "646 unique bert corrects for 3506 sentences\n",
      "32 unique subword corrects for 3506 sentences\n",
      "Number of wrong entities 955 Number of all entities 3269 \n",
      "\n",
      "Apostrophe analysis\n",
      "Frequency of entities with apostrophe. All entities : 0.0006331518298087882   Wrongs : 0.0024896265560165973\n",
      " \n",
      "Length analysis\n",
      "Average length of entities. All entities : 7.567557300240598   Wrongs : 8.932780082987552 \n",
      "\n",
      "# of occurrence analysis\n",
      "Average occurence of entities. All entities : 7.623126338329764   Wrongs : 6.0879581151832465 \n",
      "\n",
      "Tag type analysis\n",
      "Average number of tags. All entities : 1.103395533802386   Wrongs : 1.1507853403141362\n",
      " \n",
      "Caps analysis\n",
      "Average number of entities with capitalization. All entities : 0.7090853472009789   Wrongs : 0.7958115183246073\n",
      " \n",
      "Sentence length analysis\n",
      "Average length of sentences. All sentences : 13.410154021677124   Wrongs : 14.645510835913313\n",
      " \n",
      "Lang hu\n",
      "76 unique bert corrects for 933 sentences\n",
      "8 unique subword corrects for 933 sentences\n",
      "Number of wrong entities 168 Number of all entities 1167 \n",
      "\n",
      "Apostrophe analysis\n",
      "Frequency of entities with apostrophe. All entities : 0.001918649270913277   Wrongs : 0.011560693641618497\n",
      " \n",
      "Length analysis\n",
      "Average length of entities. All entities : 6.813123561013047   Wrongs : 7.641618497109826 \n",
      "\n",
      "# of occurrence analysis\n",
      "Average occurence of entities. All entities : 12.086546700942588   Wrongs : 8.178571428571429 \n",
      "\n",
      "Tag type analysis\n",
      "Average number of tags. All entities : 1.035132819194516   Wrongs : 1.0238095238095237\n",
      " \n",
      "Caps analysis\n",
      "Average number of entities with capitalization. All entities : 0.9768637532133676   Wrongs : 0.9642857142857143\n",
      " \n",
      "Sentence length analysis\n",
      "Average length of sentences. All sentences : 24.118971061093248   Wrongs : 27.894736842105264\n",
      " \n"
     ]
    }
   ],
   "source": [
    "import matplotlib.pyplot as plt\n",
    "import numpy as np\n",
    "\n",
    "word_lengths = [[],[]]\n",
    "sentence_lengths = [[],[]]\n",
    "tag_types = [[],[]]\n",
    "freqs = [[],[]]\n",
    "langs = [\"tr\",\"cs\",\"fi\",\"hu\"]\n",
    "for lang in langs:\n",
    "    model_list = [\"bert\",\"fastext\",\"random_init\",\"word2vec\"]\n",
    "    ner_sents = get_ner_sentences(model_list, lang)\n",
    "    common_sents = find_common_sents(ner_sents)\n",
    "    subword_diff_sents = find_tokenbased_difference(ner_sents,common_sents)\n",
    "    bert_diff_sents = find_bert_difference(ner_sents,common_sents)\n",
    "    print(\"Lang {}\".format(lang))\n",
    "    print(\"{} unique bert corrects for {} sentences\".format(len(bert_diff_sents),len(common_sents)))\n",
    "    print(\"{} unique subword corrects for {} sentences\".format(len(subword_diff_sents),len(common_sents)))\n",
    "    suff_wrong_count, wrong_count,total_suff, total_ents = suffix_analysis(\"'\",bert_diff_sents,ner_sents)\n",
    "    suff_wrong_freq = suff_wrong_count/ wrong_count\n",
    "    suff_total_freq = total_suff / total_ents\n",
    "    wrong_aver, all_aver = length_analysis(bert_diff_sents, ner_sents)\n",
    "    average_occurrence_all_entities, average_occurrence_wrong_entities = frequency_analysis(bert_diff_sents, ner_sents,lang)\n",
    "    aver_tag_type, aver_wrong_tag_type = different_tag_analysis(bert_diff_sents, ner_sents)\n",
    "    aver_caps_frequency, aver_wrong_caps_frequency = is_title_analysis(bert_diff_sents, ner_sents)\n",
    "    wrong_length, all_length = sentence_length_analysis(bert_diff_sents, ner_sents)\n",
    "    word_lengths[0].append(wrong_aver)\n",
    "    word_lengths[1].append(all_aver)\n",
    "    tag_types[0].append(aver_wrong_tag_type)\n",
    "    tag_types[1].append(aver_tag_type)\n",
    "    sentence_lengths[0].append(wrong_length)\n",
    "    sentence_lengths[1].append(all_length)\n",
    "    freqs[0].append(average_occurrence_wrong_entities)\n",
    "    freqs[1].append(average_occurrence_all_entities)\n",
    "    print(\"\\nApostrophe analysis\")\n",
    "    print(\"Frequency of entities with apostrophe. All entities : {}   Wrongs : {}\\n \".format(suff_total_freq, suff_wrong_freq))\n",
    "    print(\"Length analysis\")\n",
    "    print(\"Average length of entities. All entities : {}   Wrongs : {} \\n\".format(all_aver, wrong_aver))\n",
    "    print(\"# of occurrence analysis\")\n",
    "    print(\"Average occurence of entities. All entities : {}   Wrongs : {} \\n\".format(average_occurrence_all_entities, average_occurrence_wrong_entities))\n",
    "    print(\"Tag type analysis\")\n",
    "    print(\"Average number of tags. All entities : {}   Wrongs : {}\\n \".format(aver_tag_type, aver_wrong_tag_type))\n",
    "    print(\"Caps analysis\")\n",
    "    print(\"Average number of entities with capitalization. All entities : {}   Wrongs : {}\\n \".format(aver_caps_frequency, aver_wrong_caps_frequency))\n",
    "    print(\"Sentence length analysis\")\n",
    "    print(\"Average length of sentences. All sentences : {}   Wrongs : {}\\n \".format(all_length, wrong_length))\n",
    "   \n"
   ]
  },
  {
   "cell_type": "code",
   "execution_count": 378,
   "metadata": {},
   "outputs": [],
   "source": [
    "\n",
    "def analysis_plotter(data,y_label,save_name,label=True):\n",
    "    X = np.arange(len(data[0]))\n",
    "    fig, ax = plt.subplots()\n",
    "    ax.bar(X -.125, data[0], width = 0.25,label='Others failed')\n",
    "    ax.bar(X +.125, data[1],  width = 0.25,label='All sentences')\n",
    "    ax.set_xticks(X)\n",
    "    ax.set_ylabel(y_label)\n",
    "    ax.set_xticklabels([l2L[l] for l in langs])\n",
    "    if label: \n",
    "        ax.legend(loc=9)\n",
    "    plt.tight_layout()\n",
    "    fig.savefig(save_name)\n",
    "    plt.show()"
   ]
  },
  {
   "cell_type": "code",
   "execution_count": 380,
   "metadata": {},
   "outputs": [
    {
     "data": {
      "image/png": "[encoded data removed]",
      "text/plain": [
       "<Figure size 432x288 with 1 Axes>"
      ]
     },
     "metadata": {
      "needs_background": "light"
     },
     "output_type": "display_data"
    },
    {
     "data": {
      "image/png": "[encoded data removed]",
      "text/plain": [
       "<Figure size 432x288 with 1 Axes>"
      ]
     },
     "metadata": {
      "needs_background": "light"
     },
     "output_type": "display_data"
    },
    {
     "data": {
      "image/png": "[encoded data removed]",
      "text/plain": [
       "<Figure size 432x288 with 1 Axes>"
      ]
     },
     "metadata": {
      "needs_background": "light"
     },
     "output_type": "display_data"
    },
    {
     "data": {
      "image/png": "[encoded data removed]",
      "text/plain": [
       "<Figure size 432x288 with 1 Axes>"
      ]
     },
     "metadata": {
      "needs_background": "light"
     },
     "output_type": "display_data"
    }
   ],
   "source": [
    "analysis_plotter(freqs,\"Average number of occurrence per entity\",\"freqs.png\",label=True)\n",
    "analysis_plotter(tag_types,\"Average # of tag types per entity\",\"ent_type.png\",label=False)\n",
    "analysis_plotter(sentence_lengths,\"Average sentence lengths\",\"ner_sent_lens.png\",label=False)\n",
    "\n",
    "analysis_plotter(word_lengths,\"Average word lengths\",\"ner_word_lens.png\",label=False)"
   ]
  },
  {
   "cell_type": "code",
   "execution_count": null,
   "metadata": {},
   "outputs": [],
   "source": []
  }
 ],
 "metadata": {
  "kernelspec": {
   "display_name": "Python 3",
   "language": "python",
   "name": "python3"
  },
  "language_info": {
   "codemirror_mode": {
    "name": "ipython",
    "version": 3
   },
   "file_extension": ".py",
   "mimetype": "text/x-python",
   "name": "python",
   "nbconvert_exporter": "python",
   "pygments_lexer": "ipython3",
   "version": "3.7.2"
  }
 },
 "nbformat": 4,
 "nbformat_minor": 2
}
